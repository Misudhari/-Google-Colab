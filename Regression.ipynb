{
  "nbformat": 4,
  "nbformat_minor": 0,
  "metadata": {
    "colab": {
      "name": "Regression.ipynb",
      "provenance": [],
      "collapsed_sections": [],
      "authorship_tag": "ABX9TyNxIHdKPkOdmUDWt7QWVuAJ",
      "include_colab_link": true
    },
    "kernelspec": {
      "name": "python3",
      "display_name": "Python 3"
    },
    "language_info": {
      "name": "python"
    }
  },
  "cells": [
    {
      "cell_type": "markdown",
      "metadata": {
        "id": "view-in-github",
        "colab_type": "text"
      },
      "source": [
        "<a href=\"https://colab.research.google.com/github/Misudhari/-Google-Colab/blob/main/Regression.ipynb\" target=\"_parent\"><img src=\"https://colab.research.google.com/assets/colab-badge.svg\" alt=\"Open In Colab\"/></a>"
      ]
    },
    {
      "cell_type": "code",
      "execution_count": 2,
      "metadata": {
        "colab": {
          "base_uri": "https://localhost:8080/"
        },
        "id": "8FMhrGlr4Kbv",
        "outputId": "bf710d96-47b3-4971-df84-814b90f541bd"
      },
      "outputs": [
        {
          "output_type": "stream",
          "name": "stdout",
          "text": [
            "Mounted at /content/drive\n"
          ]
        }
      ],
      "source": [
        "from google.colab import drive\n",
        "drive.mount('/content/drive')"
      ]
    },
    {
      "cell_type": "code",
      "source": [
        "import pandas as pd\n",
        "import numpy as np\n",
        "from matplotlib import pyplot as plt\n",
        "from sklearn.model_selection import train_test_split"
      ],
      "metadata": {
        "id": "K68rTYiuBbbR"
      },
      "execution_count": 20,
      "outputs": []
    },
    {
      "cell_type": "code",
      "source": [
        "data = pd.read_csv(\"/content/drive/MyDrive/Datasets/Salary_Data.csv\")\n",
        "print(data.head())"
      ],
      "metadata": {
        "colab": {
          "base_uri": "https://localhost:8080/"
        },
        "id": "ReO5srfKCG0q",
        "outputId": "40284cba-b16d-4d46-a627-c0369fcd87f8"
      },
      "execution_count": 17,
      "outputs": [
        {
          "output_type": "stream",
          "name": "stdout",
          "text": [
            "   YearsExperience   Salary\n",
            "0              1.1  39343.0\n",
            "1              1.3  46205.0\n",
            "2              1.5  37731.0\n",
            "3              2.0  43525.0\n",
            "4              2.2  39891.0\n"
          ]
        }
      ]
    },
    {
      "cell_type": "code",
      "source": [
        "x = data.YearsExperience\n",
        "y = data.Salary\n",
        "\n",
        "plt.figure(figsize=(8,6))\n",
        "plt.scatter(x,y)"
      ],
      "metadata": {
        "colab": {
          "base_uri": "https://localhost:8080/",
          "height": 391
        },
        "id": "wqeFcpUHCvLo",
        "outputId": "eb90c6d7-cd00-4fb3-fd61-2081fe4262bc"
      },
      "execution_count": 24,
      "outputs": [
        {
          "output_type": "execute_result",
          "data": {
            "text/plain": [
              "<matplotlib.collections.PathCollection at 0x7f52c5ebaed0>"
            ]
          },
          "metadata": {},
          "execution_count": 24
        },
        {
          "output_type": "display_data",
          "data": {
            "text/plain": [
              "<Figure size 576x432 with 1 Axes>"
            ],
            "image/png": "[encoded data removed]"
          },
          "metadata": {
            "needs_background": "light"
          }
        }
      ]
    },
    {
      "cell_type": "code",
      "source": [
        "# class LinearRegression:\n",
        "  # def __init__(self, lr, n_iters = 1000):\n"
      ],
      "metadata": {
        "id": "eH4irvo6Mm0X"
      },
      "execution_count": null,
      "outputs": []
    },
    {
      "cell_type": "code",
      "source": [
        "x_train, x_test, y_train, y_test = train_test_split(x,y, test_size = 0.3, random_state = 1234)\n",
        "print(x_train)\n",
        "print('\\n')\n",
        "print(x_test)\n",
        "print('\\n')\n",
        "print(y_test)\n",
        "print('\\n')\n",
        "print(y_train)"
      ],
      "metadata": {
        "colab": {
          "base_uri": "https://localhost:8080/"
        },
        "id": "oUv06jUkGVUe",
        "outputId": "92deee2a-c6ea-4615-ad5b-5b82c35b87f5"
      },
      "execution_count": 28,
      "outputs": [
        {
          "output_type": "stream",
          "name": "stdout",
          "text": [
            "13     4.1\n",
            "22     7.9\n",
            "24     8.7\n",
            "0      1.1\n",
            "2      1.5\n",
            "27     9.6\n",
            "26     9.5\n",
            "18     5.9\n",
            "5      2.9\n",
            "16     5.1\n",
            "25     9.0\n",
            "11     4.0\n",
            "9      3.7\n",
            "17     5.3\n",
            "29    10.5\n",
            "20     6.8\n",
            "12     4.0\n",
            "21     7.1\n",
            "6      3.0\n",
            "19     6.0\n",
            "15     4.9\n",
            "Name: YearsExperience, dtype: float64\n",
            "\n",
            "\n",
            "7      3.2\n",
            "10     3.9\n",
            "4      2.2\n",
            "1      1.3\n",
            "28    10.3\n",
            "8      3.2\n",
            "3      2.0\n",
            "23     8.2\n",
            "14     4.5\n",
            "Name: YearsExperience, dtype: float64\n",
            "\n",
            "\n",
            "7      54445.0\n",
            "10     63218.0\n",
            "4      39891.0\n",
            "1      46205.0\n",
            "28    122391.0\n",
            "8      64445.0\n",
            "3      43525.0\n",
            "23    113812.0\n",
            "14     61111.0\n",
            "Name: Salary, dtype: float64\n",
            "\n",
            "\n",
            "13     57081.0\n",
            "22    101302.0\n",
            "24    109431.0\n",
            "0      39343.0\n",
            "2      37731.0\n",
            "27    112635.0\n",
            "26    116969.0\n",
            "18     81363.0\n",
            "5      56642.0\n",
            "16     66029.0\n",
            "25    105582.0\n",
            "11     55794.0\n",
            "9      57189.0\n",
            "17     83088.0\n",
            "29    121872.0\n",
            "20     91738.0\n",
            "12     56957.0\n",
            "21     98273.0\n",
            "6      60150.0\n",
            "19     93940.0\n",
            "15     67938.0\n",
            "Name: Salary, dtype: float64\n"
          ]
        }
      ]
    },
    {
      "cell_type": "code",
      "source": [
        ""
      ],
      "metadata": {
        "id": "hRRl0Q6FITF-"
      },
      "execution_count": null,
      "outputs": []
    }
  ]
}