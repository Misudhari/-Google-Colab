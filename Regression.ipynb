{
  "nbformat": 4,
  "nbformat_minor": 0,
  "metadata": {
    "colab": {
      "name": "Regression.ipynb",
      "provenance": [],
      "collapsed_sections": [],
      "authorship_tag": "ABX9TyMav3fN7gmBY74RTjhx1R5y",
      "include_colab_link": true
    },
    "kernelspec": {
      "name": "python3",
      "display_name": "Python 3"
    },
    "language_info": {
      "name": "python"
    }
  },
  "cells": [
    {
      "cell_type": "markdown",
      "metadata": {
        "id": "view-in-github",
        "colab_type": "text"
      },
      "source": [
        "<a href=\"https://colab.research.google.com/github/Misudhari/-Google-Colab/blob/main/Regression.ipynb\" target=\"_parent\"><img src=\"https://colab.research.google.com/assets/colab-badge.svg\" alt=\"Open In Colab\"/></a>"
      ]
    },
    {
      "cell_type": "code",
      "execution_count": 1,
      "metadata": {
        "colab": {
          "base_uri": "https://localhost:8080/"
        },
        "id": "8FMhrGlr4Kbv",
        "outputId": "7177c4bb-b028-4bc6-8685-7d565b594332"
      },
      "outputs": [
        {
          "output_type": "stream",
          "name": "stdout",
          "text": [
            "Mounted at /content/drive\n"
          ]
        }
      ],
      "source": [
        "from google.colab import drive\n",
        "drive.mount('/content/drive')"
      ]
    },
    {
      "cell_type": "code",
      "source": [
        "import pandas as pd\n",
        "import numpy as np\n",
        "from matplotlib import pyplot as plt\n",
        "from sklearn.model_selection import train_test_split"
      ],
      "metadata": {
        "id": "K68rTYiuBbbR"
      },
      "execution_count": 2,
      "outputs": []
    },
    {
      "cell_type": "code",
      "source": [
        "data = pd.read_csv(\"/content/drive/MyDrive/Datasets/Salary_Data.csv\")\n",
        "print(data.head())"
      ],
      "metadata": {
        "colab": {
          "base_uri": "https://localhost:8080/"
        },
        "id": "ReO5srfKCG0q",
        "outputId": "f0233cbe-2334-4333-bd91-b132f42a2a7f"
      },
      "execution_count": 3,
      "outputs": [
        {
          "output_type": "stream",
          "name": "stdout",
          "text": [
            "   YearsExperience   Salary\n",
            "0              1.1  39343.0\n",
            "1              1.3  46205.0\n",
            "2              1.5  37731.0\n",
            "3              2.0  43525.0\n",
            "4              2.2  39891.0\n"
          ]
        }
      ]
    },
    {
      "cell_type": "code",
      "source": [
        "x = data.YearsExperience\n",
        "y = data.Salary\n",
        "\n",
        "plt.figure(figsize=(8,6))\n",
        "plt.scatter(x,y)"
      ],
      "metadata": {
        "colab": {
          "base_uri": "https://localhost:8080/",
          "height": 391
        },
        "id": "wqeFcpUHCvLo",
        "outputId": "c79323a4-819d-4c73-f89f-a834a31b6298"
      },
      "execution_count": 4,
      "outputs": [
        {
          "output_type": "execute_result",
          "data": {
            "text/plain": [
              "<matplotlib.collections.PathCollection at 0x7fdbedc7de50>"
            ]
          },
          "metadata": {},
          "execution_count": 4
        },
        {
          "output_type": "display_data",
          "data": {
            "text/plain": [
              "<Figure size 576x432 with 1 Axes>"
            ],
            "image/png": "[encoded data removed]"
          },
          "metadata": {
            "needs_background": "light"
          }
        }
      ]
    },
    {
      "cell_type": "code",
      "source": [
        "# def loss_function(m, c, points):\n",
        "#   total_error = 0\n",
        "#   for i in range(len(points)):\n",
        "#     Xi = points.iloc[i].YearsExperience\n",
        "#     Yi = points.iloc[i].Salary\n",
        "#     total_error += (Yi - (m * Xi + c)) ** 2\n",
        "#   total_error / float(len(points))\n",
        "\n",
        "def gradient_descent(m_now, c_now, points, lrate):\n",
        "  m_gradient = 0\n",
        "  c_gradient = 0\n",
        "\n",
        "  n = len(points)\n",
        "\n",
        "  for i in range(n):\n",
        "    Xi = points.iloc[i].YearsExperience\n",
        "    Yi = points.iloc[i].Salary\n",
        "\n",
        "    m_gradient += -(2/n) * Xi * (Yi - (m_now * Xi + c_now))\n",
        "    c_gradient += -(2/n) * (Yi - (m_now * Xi + c_now))\n",
        "\n",
        "  m = m_now - m_gradient * lrate\n",
        "  c = c_now - c_gradient * lrate\n",
        "\n",
        "  return m, c\n",
        "\n",
        "m = 0\n",
        "c = 0\n",
        "lrate = 0.001\n",
        "epochs = 300\n",
        "\n",
        "for i in range(epochs):\n",
        "  if i % 50 == 0:\n",
        "    print(f\"Epoch: {i}\")\n",
        "  m, c = gradient_descent(m , c, data, lrate)\n",
        "\n",
        "print(m, c)\n",
        "\n",
        "plt.figure(figsize=(8,6))\n",
        "plt.scatter(data.YearsExperience, data.Salary, color='blue')\n",
        "plt.plot(list(range(0,20)), [m * x + c for x in range(0,20)], color = 'red')"
      ],
      "metadata": {
        "id": "eH4irvo6Mm0X",
        "outputId": "fbda44ff-20d9-4264-bcc2-95c822042d07",
        "colab": {
          "base_uri": "https://localhost:8080/",
          "height": 513
        }
      },
      "execution_count": 16,
      "outputs": [
        {
          "output_type": "stream",
          "name": "stdout",
          "text": [
            "Epoch: 0\n",
            "Epoch: 50\n",
            "Epoch: 100\n",
            "Epoch: 150\n",
            "Epoch: 200\n",
            "Epoch: 250\n",
            "12569.148667412612 4772.831286045466\n"
          ]
        },
        {
          "output_type": "execute_result",
          "data": {
            "text/plain": [
              "[<matplotlib.lines.Line2D at 0x7fdbed05d750>]"
            ]
          },
          "metadata": {},
          "execution_count": 16
        },
        {
          "output_type": "display_data",
          "data": {
            "text/plain": [
              "<Figure size 576x432 with 1 Axes>"
            ],
            "image/png": "[encoded data removed]"
          },
          "metadata": {
            "needs_background": "light"
          }
        }
      ]
    },
    {
      "cell_type": "code",
      "source": [
        ""
      ],
      "metadata": {
        "id": "hRRl0Q6FITF-"
      },
      "execution_count": null,
      "outputs": []
    }
  ]
}