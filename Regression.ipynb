{
  "nbformat": 4,
  "nbformat_minor": 0,
  "metadata": {
    "colab": {
      "name": "Regression.ipynb",
      "provenance": [],
      "collapsed_sections": [],
      "authorship_tag": "ABX9TyPHecAgObreZIqdhF2qTbA1",
      "include_colab_link": true
    },
    "kernelspec": {
      "name": "python3",
      "display_name": "Python 3"
    },
    "language_info": {
      "name": "python"
    }
  },
  "cells": [
    {
      "cell_type": "markdown",
      "metadata": {
        "id": "view-in-github",
        "colab_type": "text"
      },
      "source": [
        "<a href=\"https://colab.research.google.com/github/Misudhari/Deep-Learning-Lab/blob/main/Regression.ipynb\" target=\"_parent\"><img src=\"https://colab.research.google.com/assets/colab-badge.svg\" alt=\"Open In Colab\"/></a>"
      ]
    },
    {
      "cell_type": "code",
      "execution_count": 1,
      "metadata": {
        "colab": {
          "base_uri": "https://localhost:8080/"
        },
        "id": "8FMhrGlr4Kbv",
        "outputId": "7177c4bb-b028-4bc6-8685-7d565b594332"
      },
      "outputs": [
        {
          "output_type": "stream",
          "name": "stdout",
          "text": [
            "Mounted at /content/drive\n"
          ]
        }
      ],
      "source": [
        "from google.colab import drive\n",
        "drive.mount('/content/drive')"
      ]
    },
    {
      "cell_type": "code",
      "source": [
        "import pandas as pd\n",
        "import numpy as np\n",
        "from matplotlib import pyplot as plt\n",
        "from sklearn.model_selection import train_test_split"
      ],
      "metadata": {
        "id": "K68rTYiuBbbR"
      },
      "execution_count": 2,
      "outputs": []
    },
    {
      "cell_type": "code",
      "source": [
        "data = pd.read_csv(\"/content/drive/MyDrive/Datasets/Salary_Data.csv\")\n",
        "print(data.head())"
      ],
      "metadata": {
        "colab": {
          "base_uri": "https://localhost:8080/"
        },
        "id": "ReO5srfKCG0q",
        "outputId": "f0233cbe-2334-4333-bd91-b132f42a2a7f"
      },
      "execution_count": 3,
      "outputs": [
        {
          "output_type": "stream",
          "name": "stdout",
          "text": [
            "   YearsExperience   Salary\n",
            "0              1.1  39343.0\n",
            "1              1.3  46205.0\n",
            "2              1.5  37731.0\n",
            "3              2.0  43525.0\n",
            "4              2.2  39891.0\n"
          ]
        }
      ]
    },
    {
      "cell_type": "code",
      "source": [
        "x = data.YearsExperience\n",
        "y = data.Salary\n",
        "\n",
        "# print(x)\n",
        "# print()\n",
        "# print(y)\n",
        "\n",
        "plt.figure(figsize=(8,6))\n",
        "plt.title('Plotting Data Points')\n",
        "plt.xlabel('Experience')\n",
        "plt.ylabel('Salary')\n",
        "plt.scatter(x,y)"
      ],
      "metadata": {
        "colab": {
          "base_uri": "https://localhost:8080/",
          "height": 421
        },
        "id": "wqeFcpUHCvLo",
        "outputId": "64db319d-66cd-4545-fd54-26d8ed99e444"
      },
      "execution_count": 55,
      "outputs": [
        {
          "output_type": "execute_result",
          "data": {
            "text/plain": [
              "<matplotlib.collections.PathCollection at 0x7fdbea62ebd0>"
            ]
          },
          "metadata": {},
          "execution_count": 55
        },
        {
          "output_type": "display_data",
          "data": {
            "text/plain": [
              "<Figure size 576x432 with 1 Axes>"
            ],
            "image/png": "[encoded data removed]"
          },
          "metadata": {
            "needs_background": "light"
          }
        }
      ]
    },
    {
      "cell_type": "code",
      "source": [
        "x_train, x_test, y_train, y_test = train_test_split(x, y, test_size=0.33)\n",
        "print(f\"x_train:\\n{x_train}\")\n",
        "print('\\n')\n",
        "print(f\"x_test:\\n{x_test}\")\n",
        "print('\\n')\n",
        "print(f\"y_train:\\n{y_train}\")\n",
        "print('\\n')\n",
        "print(f\"y_test:\\n{y_test}\")\n",
        "print('\\n')\n",
        "\n",
        "print(x_train.iloc[0])\n",
        "print(y_train.iloc[0])"
      ],
      "metadata": {
        "id": "NpWp8rQ5W-l4",
        "outputId": "ded16e89-962c-4f52-b2f1-ba98f1cc1909",
        "colab": {
          "base_uri": "https://localhost:8080/"
        }
      },
      "execution_count": 44,
      "outputs": [
        {
          "output_type": "stream",
          "name": "stdout",
          "text": [
            "x_train:\n",
            "11     4.0\n",
            "26     9.5\n",
            "16     5.1\n",
            "29    10.5\n",
            "19     6.0\n",
            "9      3.7\n",
            "22     7.9\n",
            "3      2.0\n",
            "0      1.1\n",
            "14     4.5\n",
            "12     4.0\n",
            "1      1.3\n",
            "27     9.6\n",
            "7      3.2\n",
            "8      3.2\n",
            "24     8.7\n",
            "6      3.0\n",
            "28    10.3\n",
            "10     3.9\n",
            "17     5.3\n",
            "Name: YearsExperience, dtype: float64\n",
            "\n",
            "\n",
            "x_test:\n",
            "18    5.9\n",
            "23    8.2\n",
            "15    4.9\n",
            "13    4.1\n",
            "20    6.8\n",
            "5     2.9\n",
            "4     2.2\n",
            "2     1.5\n",
            "25    9.0\n",
            "21    7.1\n",
            "Name: YearsExperience, dtype: float64\n",
            "\n",
            "\n",
            "y_train:\n",
            "11     55794.0\n",
            "26    116969.0\n",
            "16     66029.0\n",
            "29    121872.0\n",
            "19     93940.0\n",
            "9      57189.0\n",
            "22    101302.0\n",
            "3      43525.0\n",
            "0      39343.0\n",
            "14     61111.0\n",
            "12     56957.0\n",
            "1      46205.0\n",
            "27    112635.0\n",
            "7      54445.0\n",
            "8      64445.0\n",
            "24    109431.0\n",
            "6      60150.0\n",
            "28    122391.0\n",
            "10     63218.0\n",
            "17     83088.0\n",
            "Name: Salary, dtype: float64\n",
            "\n",
            "\n",
            "y_test:\n",
            "18     81363.0\n",
            "23    113812.0\n",
            "15     67938.0\n",
            "13     57081.0\n",
            "20     91738.0\n",
            "5      56642.0\n",
            "4      39891.0\n",
            "2      37731.0\n",
            "25    105582.0\n",
            "21     98273.0\n",
            "Name: Salary, dtype: float64\n",
            "\n",
            "\n",
            "4.0\n",
            "55794.0\n"
          ]
        }
      ]
    },
    {
      "cell_type": "code",
      "source": [
        "# def loss_function(m, c, points):\n",
        "#   total_error = 0\n",
        "#   for i in range(len(points)):\n",
        "#     Xi = points.iloc[i].YearsExperience\n",
        "#     Yi = points.iloc[i].Salary\n",
        "#     total_error += (Yi - (m * Xi + c)) ** 2\n",
        "#   total_error / float(len(points))\n",
        "\n",
        "def gradient_descent(x_train, y_train, m_now, c_now, lrate):\n",
        "  m_gradient = 0\n",
        "  c_gradient = 0\n",
        "\n",
        "  n = len(x_train)\n",
        "\n",
        "  for i in range(n):\n",
        "\n",
        "    m_gradient += -(2/n) * x_train.iloc[i] * (y_train.iloc[i] - (m_now * x_train.iloc[i] + c_now))\n",
        "    c_gradient += -(2/n) * (y_train.iloc[i] - (m_now * x_train.iloc[i] + c_now))\n",
        "\n",
        "  m = m_now - m_gradient * lrate\n",
        "  c = c_now - c_gradient * lrate\n",
        "\n",
        "  return m, c\n",
        "\n",
        "m = 0\n",
        "c = 0\n",
        "lrate = 0.001\n",
        "epochs = 300\n",
        "\n",
        "for i in range(epochs):\n",
        "  if i % 50 == 0:\n",
        "    print(f\"Epoch: {i}\")\n",
        "  m, c = gradient_descent(x_train, y_train, m, c, lrate)\n",
        "\n",
        "print(f\"m: {m}, c: {c}\")\n",
        "\n",
        "\n",
        "plt.figure(figsize=(8,6))\n",
        "plt.scatter(data.YearsExperience, data.Salary, color='blue')\n",
        "plt.plot(list(range(0,20)), [m * x + c for x in range(0,20)], color = 'red')\n",
        "plt.title('Fitting the regression function')\n",
        "plt.xlabel('Experience')\n",
        "plt.ylabel('Salary')\n",
        "plt.show()\n",
        "\n",
        "y_pred_list = []\n",
        "for i in range (len(x_test)):\n",
        "  y_pred = m * x_test.iloc[i] + c\n",
        "  y_pred_list.append(y_pred)\n",
        "  print(f\"\\nx_test: {x_test.iloc[i]}\\t Y_pred: {y_pred}\" )\n",
        "\n",
        "\n",
        "plt.figure(figsize=(8,6))\n",
        "plt.scatter(x_test, y_pred_list, color='blue')\n",
        "plt.plot(list(range(0,20)), [m * x + c for x in range(0,20)], color = 'red')\n",
        "plt.title('Plotting Predicted Values')\n",
        "plt.xlabel('Experience (Test)')\n",
        "plt.ylabel('Salary (Predicted)')\n",
        "plt.show()"
      ],
      "metadata": {
        "id": "eH4irvo6Mm0X",
        "colab": {
          "base_uri": "https://localhost:8080/",
          "height": 1000
        },
        "outputId": "fe0c9b7b-6b2b-431d-bb36-345c411975a9"
      },
      "execution_count": 54,
      "outputs": [
        {
          "output_type": "stream",
          "name": "stdout",
          "text": [
            "Epoch: 0\n",
            "Epoch: 50\n",
            "Epoch: 100\n",
            "Epoch: 150\n",
            "Epoch: 200\n",
            "Epoch: 250\n",
            "m: 12388.293644237921, c: 5181.635014581037\n"
          ]
        },
        {
          "output_type": "display_data",
          "data": {
            "text/plain": [
              "<Figure size 576x432 with 1 Axes>"
            ],
            "image/png": "[encoded data removed]"
          },
          "metadata": {
            "needs_background": "light"
          }
        },
        {
          "output_type": "stream",
          "name": "stdout",
          "text": [
            "\n",
            "x_test: 5.9\t Y_pred: 78272.56751558479\n",
            "\n",
            "x_test: 8.2\t Y_pred: 106765.64289733199\n",
            "\n",
            "x_test: 4.9\t Y_pred: 65884.27387134686\n",
            "\n",
            "x_test: 4.1\t Y_pred: 55973.63895595651\n",
            "\n",
            "x_test: 6.8\t Y_pred: 89422.0317953989\n",
            "\n",
            "x_test: 2.9\t Y_pred: 41107.68658287101\n",
            "\n",
            "x_test: 2.2\t Y_pred: 32435.881031904464\n",
            "\n",
            "x_test: 1.5\t Y_pred: 23764.075480937918\n",
            "\n",
            "x_test: 9.0\t Y_pred: 116676.27781272233\n",
            "\n",
            "x_test: 7.1\t Y_pred: 93138.51988867029\n"
          ]
        },
        {
          "output_type": "display_data",
          "data": {
            "text/plain": [
              "<Figure size 576x432 with 1 Axes>"
            ],
            "image/png": "[encoded data removed]"
          },
          "metadata": {
            "needs_background": "light"
          }
        }
      ]
    },
    {
      "cell_type": "code",
      "source": [
        ""
      ],
      "metadata": {
        "id": "hRRl0Q6FITF-"
      },
      "execution_count": null,
      "outputs": []
    }
  ]
}