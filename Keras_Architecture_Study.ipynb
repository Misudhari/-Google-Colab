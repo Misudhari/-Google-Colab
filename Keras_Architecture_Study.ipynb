{
  "nbformat": 4,
  "nbformat_minor": 0,
  "metadata": {
    "colab": {
      "name": "Keras Architecture Study.ipynb",
      "provenance": [],
      "authorship_tag": "ABX9TyN4V7qGi9sJs+dW9hgdHe//",
      "include_colab_link": true
    },
    "kernelspec": {
      "name": "python3",
      "display_name": "Python 3"
    },
    "language_info": {
      "name": "python"
    }
  },
  "cells": [
    {
      "cell_type": "markdown",
      "metadata": {
        "id": "view-in-github",
        "colab_type": "text"
      },
      "source": [
        "<a href=\"https://colab.research.google.com/github/Misudhari/Deep-Learning-Lab/blob/main/Keras_Architecture_Study.ipynb\" target=\"_parent\"><img src=\"https://colab.research.google.com/assets/colab-badge.svg\" alt=\"Open In Colab\"/></a>"
      ]
    },
    {
      "cell_type": "code",
      "execution_count": 1,
      "metadata": {
        "id": "LpUzC8zHqOat"
      },
      "outputs": [],
      "source": [
        "import keras\n",
        "from keras.models import Sequential\n",
        "from keras.layers import Dense\n",
        "from keras.layers import LeakyReLU, PReLU, ELU\n",
        "from tensorflow.keras.utils import plot_model"
      ]
    },
    {
      "cell_type": "code",
      "source": [
        "### INitializing Artificial Neural Network\n",
        "\n",
        "model = Sequential()\n",
        "\n",
        "\n",
        "model.add(Dense(16, input_shape = (8,)))\n",
        "model.summary()\n",
        "plot_model(model, to_file='model_plot.png', show_shapes=True, show_layer_names=True)"
      ],
      "metadata": {
        "colab": {
          "base_uri": "https://localhost:8080/",
          "height": 392
        },
        "id": "66RUcZoGI7i0",
        "outputId": "98aadbe5-fb7e-4eca-b51c-85156acfb83f"
      },
      "execution_count": 2,
      "outputs": [
        {
          "output_type": "stream",
          "name": "stdout",
          "text": [
            "Model: \"sequential\"\n",
            "_________________________________________________________________\n",
            " Layer (type)                Output Shape              Param #   \n",
            "=================================================================\n",
            " dense (Dense)               (None, 16)                144       \n",
            "                                                                 \n",
            "=================================================================\n",
            "Total params: 144\n",
            "Trainable params: 144\n",
            "Non-trainable params: 0\n",
            "_________________________________________________________________\n"
          ]
        },
        {
          "output_type": "execute_result",
          "data": {
            "text/plain": [
              "<IPython.core.display.Image object>"
            ],
            "image/png": "[encoded data removed]"
          },
          "metadata": {},
          "execution_count": 2
        }
      ]
    },
    {
      "cell_type": "code",
      "source": [
        "model.get_config()"
      ],
      "metadata": {
        "colab": {
          "base_uri": "https://localhost:8080/"
        },
        "id": "mJbI89orLU66",
        "outputId": "545ae741-f908-4df2-d166-a1bea2bb01a8"
      },
      "execution_count": 3,
      "outputs": [
        {
          "output_type": "execute_result",
          "data": {
            "text/plain": [
              "{'layers': [{'class_name': 'InputLayer',\n",
              "   'config': {'batch_input_shape': (None, 8),\n",
              "    'dtype': 'float32',\n",
              "    'name': 'dense_input',\n",
              "    'ragged': False,\n",
              "    'sparse': False}},\n",
              "  {'class_name': 'Dense',\n",
              "   'config': {'activation': 'linear',\n",
              "    'activity_regularizer': None,\n",
              "    'batch_input_shape': (None, 8),\n",
              "    'bias_constraint': None,\n",
              "    'bias_initializer': {'class_name': 'Zeros', 'config': {}},\n",
              "    'bias_regularizer': None,\n",
              "    'dtype': 'float32',\n",
              "    'kernel_constraint': None,\n",
              "    'kernel_initializer': {'class_name': 'GlorotUniform',\n",
              "     'config': {'seed': None}},\n",
              "    'kernel_regularizer': None,\n",
              "    'name': 'dense',\n",
              "    'trainable': True,\n",
              "    'units': 16,\n",
              "    'use_bias': True}}],\n",
              " 'name': 'sequential'}"
            ]
          },
          "metadata": {},
          "execution_count": 3
        }
      ]
    },
    {
      "cell_type": "code",
      "source": [
        "model.get_weights()"
      ],
      "metadata": {
        "colab": {
          "base_uri": "https://localhost:8080/"
        },
        "id": "CPVCFTMGMi2t",
        "outputId": "eb82a6df-bc63-4d0a-9a98-c2603baef2ed"
      },
      "execution_count": 4,
      "outputs": [
        {
          "output_type": "execute_result",
          "data": {
            "text/plain": [
              "[array([[ 0.14516366,  0.4456085 , -0.4430852 , -0.27276623,  0.10308731,\n",
              "          0.13003612,  0.02882838,  0.09384084,  0.20514643,  0.34757292,\n",
              "          0.18939626,  0.31676006, -0.43858683, -0.24606872, -0.2312231 ,\n",
              "          0.07394683],\n",
              "        [ 0.36541355, -0.24298918, -0.02727497, -0.2536037 ,  0.0088402 ,\n",
              "         -0.1405431 , -0.22577918, -0.42828083, -0.23217201, -0.30735207,\n",
              "          0.11525309, -0.23317528,  0.25707805,  0.13589895, -0.48208714,\n",
              "          0.25509918],\n",
              "        [ 0.48857284, -0.04150701,  0.31929708,  0.4840814 ,  0.21888626,\n",
              "          0.4038943 , -0.15504706,  0.48919117,  0.23752761,  0.47351587,\n",
              "          0.36336362, -0.04947209, -0.3001232 , -0.15235257, -0.16350722,\n",
              "         -0.26346767],\n",
              "        [ 0.48721957, -0.24379158, -0.4721328 , -0.39638257,  0.44210434,\n",
              "         -0.09725428, -0.46694136, -0.2955358 , -0.21124744,  0.09518671,\n",
              "         -0.43067813, -0.09470487, -0.48245168, -0.38361752, -0.18460786,\n",
              "          0.43155074],\n",
              "        [-0.34151757, -0.38723516, -0.46862602,  0.21968031,  0.32152617,\n",
              "          0.33500051, -0.05610418, -0.30341864, -0.2430762 , -0.41659737,\n",
              "         -0.45614362,  0.42553353, -0.11001647, -0.26961017,  0.29857707,\n",
              "          0.07565546],\n",
              "        [ 0.06640232, -0.07846022, -0.01833606, -0.36249042,  0.49791837,\n",
              "         -0.2546035 , -0.4057262 , -0.14910841, -0.00160432, -0.4810102 ,\n",
              "         -0.31787097,  0.49622464,  0.06927574,  0.12200916,  0.27912378,\n",
              "         -0.4594195 ],\n",
              "        [ 0.18140852,  0.47538567,  0.10947275, -0.4433484 ,  0.26492488,\n",
              "         -0.17968333, -0.12133145,  0.35262322, -0.01422107, -0.24036372,\n",
              "          0.06208169, -0.47251713, -0.08800709,  0.23367143,  0.3010875 ,\n",
              "          0.46882057],\n",
              "        [ 0.351982  , -0.41963744,  0.44667137, -0.28242385, -0.47193658,\n",
              "         -0.12288392, -0.05880678,  0.1923083 , -0.19804668, -0.07840192,\n",
              "          0.42419696, -0.4270134 , -0.35103047,  0.02362311, -0.01605999,\n",
              "         -0.4933405 ]], dtype=float32),\n",
              " array([0., 0., 0., 0., 0., 0., 0., 0., 0., 0., 0., 0., 0., 0., 0., 0.],\n",
              "       dtype=float32)]"
            ]
          },
          "metadata": {},
          "execution_count": 4
        }
      ]
    },
    {
      "cell_type": "code",
      "source": [
        "from keras.layers import Dropout"
      ],
      "metadata": {
        "id": "NgyhzUlKMnyX"
      },
      "execution_count": 5,
      "outputs": []
    },
    {
      "cell_type": "code",
      "source": [
        "model = Sequential()\n",
        "model.add(Dense(16, input_shape =(8,)))\n",
        "model.add(Dropout(.2))\n",
        "model.add(Dense(10))\n",
        "model.summary()"
      ],
      "metadata": {
        "colab": {
          "base_uri": "https://localhost:8080/"
        },
        "id": "GVL6mdW6NO9l",
        "outputId": "1c4ac3b8-8112-443c-c6b3-59196562563b"
      },
      "execution_count": 7,
      "outputs": [
        {
          "output_type": "stream",
          "name": "stdout",
          "text": [
            "Model: \"sequential_2\"\n",
            "_________________________________________________________________\n",
            " Layer (type)                Output Shape              Param #   \n",
            "=================================================================\n",
            " dense_2 (Dense)             (None, 16)                144       \n",
            "                                                                 \n",
            " dropout_1 (Dropout)         (None, 16)                0         \n",
            "                                                                 \n",
            " dense_3 (Dense)             (None, 10)                170       \n",
            "                                                                 \n",
            "=================================================================\n",
            "Total params: 314\n",
            "Trainable params: 314\n",
            "Non-trainable params: 0\n",
            "_________________________________________________________________\n"
          ]
        }
      ]
    },
    {
      "cell_type": "code",
      "source": [
        "from keras.layers import Flatten"
      ],
      "metadata": {
        "id": "QxAbUO0pSApr"
      },
      "execution_count": 9,
      "outputs": []
    },
    {
      "cell_type": "code",
      "source": [
        "model = Sequential()\n",
        "model.add(Dense(16, input_shape = (8,2)))\n",
        "model.add(Flatten())\n",
        "model.summary()\n",
        "plot_model(model, to_file='model_plot.png', show_shapes=True, show_layer_names=True)"
      ],
      "metadata": {
        "colab": {
          "base_uri": "https://localhost:8080/",
          "height": 538
        },
        "id": "BP8RIMiaNnwp",
        "outputId": "550c6361-5db1-4a33-f2b7-4ed6291b8aee"
      },
      "execution_count": 10,
      "outputs": [
        {
          "output_type": "stream",
          "name": "stdout",
          "text": [
            "Model: \"sequential_4\"\n",
            "_________________________________________________________________\n",
            " Layer (type)                Output Shape              Param #   \n",
            "=================================================================\n",
            " dense_5 (Dense)             (None, 8, 16)             48        \n",
            "                                                                 \n",
            " flatten (Flatten)           (None, 128)               0         \n",
            "                                                                 \n",
            "=================================================================\n",
            "Total params: 48\n",
            "Trainable params: 48\n",
            "Non-trainable params: 0\n",
            "_________________________________________________________________\n"
          ]
        },
        {
          "output_type": "execute_result",
          "data": {
            "text/plain": [
              "<IPython.core.display.Image object>"
            ],
            "image/png": "[encoded data removed]"
          },
          "metadata": {},
          "execution_count": 10
        }
      ]
    },
    {
      "cell_type": "code",
      "source": [
        "from tensorflow.keras.layers import Permute\n",
        "import tensorflow"
      ],
      "metadata": {
        "id": "7sBVj1_TSNjj"
      },
      "execution_count": 11,
      "outputs": []
    },
    {
      "cell_type": "code",
      "source": [
        "from keras import initializers\n",
        "model = Sequential()\n",
        "initializer = tensorflow.keras.initializers.GlorotUniform()\n",
        "model.add(Dense(16, input_shape = (8,2) , kernel_initializer=))"
      ],
      "metadata": {
        "id": "YhAhALTUSrcf"
      },
      "execution_count": null,
      "outputs": []
    }
  ]
}