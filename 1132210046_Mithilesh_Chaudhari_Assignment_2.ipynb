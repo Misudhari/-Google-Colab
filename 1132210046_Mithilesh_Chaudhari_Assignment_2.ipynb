{
  "cells": [
    {
      "cell_type": "markdown",
      "metadata": {
        "id": "view-in-github",
        "colab_type": "text"
      },
      "source": [
        "<a href=\"https://colab.research.google.com/github/Misudhari/Deep-Learning-Lab/blob/main/1132210046_Mithilesh_Chaudhari_Assignment_2.ipynb\" target=\"_parent\"><img src=\"https://colab.research.google.com/assets/colab-badge.svg\" alt=\"Open In Colab\"/></a>"
      ]
    },
    {
      "cell_type": "markdown",
      "metadata": {
        "id": "FgoNddOKIT4H"
      },
      "source": [
        "# Mithilesh Chaudhari \n",
        "# 1132210046\n",
        "# Roll no : 11"
      ]
    },
    {
      "cell_type": "code",
      "execution_count": null,
      "metadata": {
        "colab": {
          "base_uri": "https://localhost:8080/"
        },
        "id": "E-WDkHsgvWsp",
        "outputId": "c86263a4-f02c-4e83-8e16-70799bf502f4"
      },
      "outputs": [
        {
          "name": "stdout",
          "output_type": "stream",
          "text": [
            "Requirement already satisfied: keras_tuner in c:\\users\\shreya\\anaconda3\\lib\\site-packages (1.1.3)\n",
            "Requirement already satisfied: packaging in c:\\users\\shreya\\anaconda3\\lib\\site-packages (from keras_tuner) (21.3)\n",
            "Requirement already satisfied: kt-legacy in c:\\users\\shreya\\anaconda3\\lib\\site-packages (from keras_tuner) (1.0.4)\n",
            "Requirement already satisfied: numpy in c:\\users\\shreya\\anaconda3\\lib\\site-packages (from keras_tuner) (1.21.5)\n",
            "Requirement already satisfied: requests in c:\\users\\shreya\\anaconda3\\lib\\site-packages (from keras_tuner) (2.27.1)\n",
            "Requirement already satisfied: ipython in c:\\users\\shreya\\anaconda3\\lib\\site-packages (from keras_tuner) (8.2.0)\n",
            "Requirement already satisfied: tensorboard in c:\\users\\shreya\\anaconda3\\lib\\site-packages (from keras_tuner) (2.9.1)\n",
            "Requirement already satisfied: pygments>=2.4.0 in c:\\users\\shreya\\anaconda3\\lib\\site-packages (from ipython->keras_tuner) (2.11.2)\n",
            "Requirement already satisfied: prompt-toolkit!=3.0.0,!=3.0.1,<3.1.0,>=2.0.0 in c:\\users\\shreya\\anaconda3\\lib\\site-packages (from ipython->keras_tuner) (3.0.20)\n",
            "Requirement already satisfied: pickleshare in c:\\users\\shreya\\anaconda3\\lib\\site-packages (from ipython->keras_tuner) (0.7.5)\n",
            "Requirement already satisfied: setuptools>=18.5 in c:\\users\\shreya\\anaconda3\\lib\\site-packages (from ipython->keras_tuner) (61.2.0)\n",
            "Requirement already satisfied: colorama in c:\\users\\shreya\\anaconda3\\lib\\site-packages (from ipython->keras_tuner) (0.4.4)\n",
            "Requirement already satisfied: jedi>=0.16 in c:\\users\\shreya\\anaconda3\\lib\\site-packages (from ipython->keras_tuner) (0.18.1)\n",
            "Requirement already satisfied: matplotlib-inline in c:\\users\\shreya\\anaconda3\\lib\\site-packages (from ipython->keras_tuner) (0.1.2)\n",
            "Requirement already satisfied: decorator in c:\\users\\shreya\\anaconda3\\lib\\site-packages (from ipython->keras_tuner) (5.1.1)\n",
            "Requirement already satisfied: backcall in c:\\users\\shreya\\anaconda3\\lib\\site-packages (from ipython->keras_tuner) (0.2.0)\n",
            "Requirement already satisfied: traitlets>=5 in c:\\users\\shreya\\anaconda3\\lib\\site-packages (from ipython->keras_tuner) (5.1.1)\n",
            "Requirement already satisfied: stack-data in c:\\users\\shreya\\anaconda3\\lib\\site-packages (from ipython->keras_tuner) (0.2.0)\n",
            "Requirement already satisfied: parso<0.9.0,>=0.8.0 in c:\\users\\shreya\\anaconda3\\lib\\site-packages (from jedi>=0.16->ipython->keras_tuner) (0.8.3)\n",
            "Requirement already satisfied: wcwidth in c:\\users\\shreya\\anaconda3\\lib\\site-packages (from prompt-toolkit!=3.0.0,!=3.0.1,<3.1.0,>=2.0.0->ipython->keras_tuner) (0.2.5)\n",
            "Requirement already satisfied: pyparsing!=3.0.5,>=2.0.2 in c:\\users\\shreya\\anaconda3\\lib\\site-packages (from packaging->keras_tuner) (3.0.4)\n",
            "Requirement already satisfied: idna<4,>=2.5 in c:\\users\\shreya\\anaconda3\\lib\\site-packages (from requests->keras_tuner) (3.3)\n",
            "Requirement already satisfied: urllib3<1.27,>=1.21.1 in c:\\users\\shreya\\anaconda3\\lib\\site-packages (from requests->keras_tuner) (1.26.9)\n",
            "Requirement already satisfied: charset-normalizer~=2.0.0 in c:\\users\\shreya\\anaconda3\\lib\\site-packages (from requests->keras_tuner) (2.0.4)\n",
            "Requirement already satisfied: certifi>=2017.4.17 in c:\\users\\shreya\\anaconda3\\lib\\site-packages (from requests->keras_tuner) (2021.10.8)\n",
            "Requirement already satisfied: pure-eval in c:\\users\\shreya\\anaconda3\\lib\\site-packages (from stack-data->ipython->keras_tuner) (0.2.2)\n",
            "Requirement already satisfied: asttokens in c:\\users\\shreya\\anaconda3\\lib\\site-packages (from stack-data->ipython->keras_tuner) (2.0.5)\n",
            "Requirement already satisfied: executing in c:\\users\\shreya\\anaconda3\\lib\\site-packages (from stack-data->ipython->keras_tuner) (0.8.3)\n",
            "Requirement already satisfied: six in c:\\users\\shreya\\anaconda3\\lib\\site-packages (from asttokens->stack-data->ipython->keras_tuner) (1.16.0)\n",
            "Requirement already satisfied: google-auth-oauthlib<0.5,>=0.4.1 in c:\\users\\shreya\\anaconda3\\lib\\site-packages (from tensorboard->keras_tuner) (0.4.6)\n",
            "Requirement already satisfied: tensorboard-plugin-wit>=1.6.0 in c:\\users\\shreya\\anaconda3\\lib\\site-packages (from tensorboard->keras_tuner) (1.8.1)\n",
            "Requirement already satisfied: grpcio>=1.24.3 in c:\\users\\shreya\\anaconda3\\lib\\site-packages (from tensorboard->keras_tuner) (1.42.0)\n",
            "Requirement already satisfied: google-auth<3,>=1.6.3 in c:\\users\\shreya\\anaconda3\\lib\\site-packages (from tensorboard->keras_tuner) (1.33.0)\n",
            "Requirement already satisfied: wheel>=0.26 in c:\\users\\shreya\\anaconda3\\lib\\site-packages (from tensorboard->keras_tuner) (0.37.1)\n",
            "Requirement already satisfied: tensorboard-data-server<0.7.0,>=0.6.0 in c:\\users\\shreya\\anaconda3\\lib\\site-packages (from tensorboard->keras_tuner) (0.6.1)\n",
            "Requirement already satisfied: protobuf<3.20,>=3.9.2 in c:\\users\\shreya\\anaconda3\\lib\\site-packages (from tensorboard->keras_tuner) (3.19.1)\n",
            "Requirement already satisfied: markdown>=2.6.8 in c:\\users\\shreya\\anaconda3\\lib\\site-packages (from tensorboard->keras_tuner) (3.3.4)\n",
            "Requirement already satisfied: absl-py>=0.4 in c:\\users\\shreya\\anaconda3\\lib\\site-packages (from tensorboard->keras_tuner) (1.2.0)\n",
            "Requirement already satisfied: werkzeug>=1.0.1 in c:\\users\\shreya\\anaconda3\\lib\\site-packages (from tensorboard->keras_tuner) (2.0.3)\n",
            "Requirement already satisfied: pyasn1-modules>=0.2.1 in c:\\users\\shreya\\anaconda3\\lib\\site-packages (from google-auth<3,>=1.6.3->tensorboard->keras_tuner) (0.2.8)\n",
            "Requirement already satisfied: cachetools<5.0,>=2.0.0 in c:\\users\\shreya\\anaconda3\\lib\\site-packages (from google-auth<3,>=1.6.3->tensorboard->keras_tuner) (4.2.2)\n",
            "Requirement already satisfied: rsa<5,>=3.1.4 in c:\\users\\shreya\\anaconda3\\lib\\site-packages (from google-auth<3,>=1.6.3->tensorboard->keras_tuner) (4.7.2)\n",
            "Requirement already satisfied: requests-oauthlib>=0.7.0 in c:\\users\\shreya\\anaconda3\\lib\\site-packages (from google-auth-oauthlib<0.5,>=0.4.1->tensorboard->keras_tuner) (1.3.1)\n",
            "Requirement already satisfied: pyasn1<0.5.0,>=0.4.6 in c:\\users\\shreya\\anaconda3\\lib\\site-packages (from pyasn1-modules>=0.2.1->google-auth<3,>=1.6.3->tensorboard->keras_tuner) (0.4.8)\n",
            "Requirement already satisfied: oauthlib>=3.0.0 in c:\\users\\shreya\\anaconda3\\lib\\site-packages (from requests-oauthlib>=0.7.0->google-auth-oauthlib<0.5,>=0.4.1->tensorboard->keras_tuner) (3.2.0)\n"
          ]
        }
      ],
      "source": [
        "!pip install keras_tuner"
      ]
    },
    {
      "cell_type": "markdown",
      "metadata": {
        "id": "e5pok8tXIT4b"
      },
      "source": [
        "### Importing libraries "
      ]
    },
    {
      "cell_type": "code",
      "execution_count": null,
      "metadata": {
        "id": "0G-68Hi7hixd"
      },
      "outputs": [],
      "source": [
        "import pandas as pd\n",
        "import keras\n",
        "from sklearn.model_selection import train_test_split\n",
        "from keras_tuner.tuners import RandomSearch\n",
        "from keras.layers import Dense,Dropout,Flatten,ReLU,LeakyReLU\n",
        "from keras import layers"
      ]
    },
    {
      "cell_type": "markdown",
      "metadata": {
        "id": "R8rnJIFFIT4g"
      },
      "source": [
        "### Loading data  "
      ]
    },
    {
      "cell_type": "code",
      "execution_count": null,
      "metadata": {
        "id": "tNCJgbfLiIDK"
      },
      "outputs": [],
      "source": [
        "data = pd.read_csv(\"data.csv\")"
      ]
    },
    {
      "cell_type": "code",
      "execution_count": null,
      "metadata": {
        "colab": {
          "base_uri": "https://localhost:8080/",
          "height": 215
        },
        "id": "jZSeIO3Vu78s",
        "outputId": "93254ce7-ddeb-491b-aa3f-939c8ab7b94b"
      },
      "outputs": [
        {
          "data": {
            "text/html": [
              "<div>\n",
              "<style scoped>\n",
              "    .dataframe tbody tr th:only-of-type {\n",
              "        vertical-align: middle;\n",
              "    }\n",
              "\n",
              "    .dataframe tbody tr th {\n",
              "        vertical-align: top;\n",
              "    }\n",
              "\n",
              "    .dataframe thead th {\n",
              "        text-align: right;\n",
              "    }\n",
              "</style>\n",
              "<table border=\"1\" class=\"dataframe\">\n",
              "  <thead>\n",
              "    <tr style=\"text-align: right;\">\n",
              "      <th></th>\n",
              "      <th>price</th>\n",
              "      <th>bedrooms</th>\n",
              "      <th>bathrooms</th>\n",
              "      <th>sqft_living</th>\n",
              "      <th>sqft_lot</th>\n",
              "      <th>floors</th>\n",
              "      <th>waterfront</th>\n",
              "      <th>view</th>\n",
              "      <th>condition</th>\n",
              "      <th>sqft_above</th>\n",
              "      <th>sqft_basement</th>\n",
              "      <th>yr_built</th>\n",
              "      <th>yr_renovated</th>\n",
              "      <th>street</th>\n",
              "      <th>city</th>\n",
              "      <th>statezip</th>\n",
              "      <th>country</th>\n",
              "    </tr>\n",
              "  </thead>\n",
              "  <tbody>\n",
              "    <tr>\n",
              "      <th>0</th>\n",
              "      <td>313000.0</td>\n",
              "      <td>3</td>\n",
              "      <td>1.50</td>\n",
              "      <td>1340</td>\n",
              "      <td>7912</td>\n",
              "      <td>1.5</td>\n",
              "      <td>0</td>\n",
              "      <td>0</td>\n",
              "      <td>3</td>\n",
              "      <td>1340</td>\n",
              "      <td>0</td>\n",
              "      <td>1955</td>\n",
              "      <td>2005</td>\n",
              "      <td>18810 Densmore Ave N</td>\n",
              "      <td>Shoreline</td>\n",
              "      <td>WA 98133</td>\n",
              "      <td>USA</td>\n",
              "    </tr>\n",
              "    <tr>\n",
              "      <th>1</th>\n",
              "      <td>2384000.0</td>\n",
              "      <td>5</td>\n",
              "      <td>2.50</td>\n",
              "      <td>3650</td>\n",
              "      <td>9050</td>\n",
              "      <td>2.0</td>\n",
              "      <td>0</td>\n",
              "      <td>4</td>\n",
              "      <td>5</td>\n",
              "      <td>3370</td>\n",
              "      <td>280</td>\n",
              "      <td>1921</td>\n",
              "      <td>0</td>\n",
              "      <td>709 W Blaine St</td>\n",
              "      <td>Seattle</td>\n",
              "      <td>WA 98119</td>\n",
              "      <td>USA</td>\n",
              "    </tr>\n",
              "    <tr>\n",
              "      <th>2</th>\n",
              "      <td>342000.0</td>\n",
              "      <td>3</td>\n",
              "      <td>2.00</td>\n",
              "      <td>1930</td>\n",
              "      <td>11947</td>\n",
              "      <td>1.0</td>\n",
              "      <td>0</td>\n",
              "      <td>0</td>\n",
              "      <td>4</td>\n",
              "      <td>1930</td>\n",
              "      <td>0</td>\n",
              "      <td>1966</td>\n",
              "      <td>0</td>\n",
              "      <td>26206-26214 143rd Ave SE</td>\n",
              "      <td>Kent</td>\n",
              "      <td>WA 98042</td>\n",
              "      <td>USA</td>\n",
              "    </tr>\n",
              "    <tr>\n",
              "      <th>3</th>\n",
              "      <td>420000.0</td>\n",
              "      <td>3</td>\n",
              "      <td>2.25</td>\n",
              "      <td>2000</td>\n",
              "      <td>8030</td>\n",
              "      <td>1.0</td>\n",
              "      <td>0</td>\n",
              "      <td>0</td>\n",
              "      <td>4</td>\n",
              "      <td>1000</td>\n",
              "      <td>1000</td>\n",
              "      <td>1963</td>\n",
              "      <td>0</td>\n",
              "      <td>857 170th Pl NE</td>\n",
              "      <td>Bellevue</td>\n",
              "      <td>WA 98008</td>\n",
              "      <td>USA</td>\n",
              "    </tr>\n",
              "    <tr>\n",
              "      <th>4</th>\n",
              "      <td>550000.0</td>\n",
              "      <td>4</td>\n",
              "      <td>2.50</td>\n",
              "      <td>1940</td>\n",
              "      <td>10500</td>\n",
              "      <td>1.0</td>\n",
              "      <td>0</td>\n",
              "      <td>0</td>\n",
              "      <td>4</td>\n",
              "      <td>1140</td>\n",
              "      <td>800</td>\n",
              "      <td>1976</td>\n",
              "      <td>1992</td>\n",
              "      <td>9105 170th Ave NE</td>\n",
              "      <td>Redmond</td>\n",
              "      <td>WA 98052</td>\n",
              "      <td>USA</td>\n",
              "    </tr>\n",
              "  </tbody>\n",
              "</table>\n",
              "</div>"
            ],
            "text/plain": [
              "       price  bedrooms  bathrooms  sqft_living  sqft_lot  floors  waterfront  \\\n",
              "0   313000.0         3       1.50         1340      7912     1.5           0   \n",
              "1  2384000.0         5       2.50         3650      9050     2.0           0   \n",
              "2   342000.0         3       2.00         1930     11947     1.0           0   \n",
              "3   420000.0         3       2.25         2000      8030     1.0           0   \n",
              "4   550000.0         4       2.50         1940     10500     1.0           0   \n",
              "\n",
              "   view  condition  sqft_above  sqft_basement  yr_built  yr_renovated  \\\n",
              "0     0          3        1340              0      1955          2005   \n",
              "1     4          5        3370            280      1921             0   \n",
              "2     0          4        1930              0      1966             0   \n",
              "3     0          4        1000           1000      1963             0   \n",
              "4     0          4        1140            800      1976          1992   \n",
              "\n",
              "                     street       city  statezip country  \n",
              "0      18810 Densmore Ave N  Shoreline  WA 98133     USA  \n",
              "1           709 W Blaine St    Seattle  WA 98119     USA  \n",
              "2  26206-26214 143rd Ave SE       Kent  WA 98042     USA  \n",
              "3           857 170th Pl NE   Bellevue  WA 98008     USA  \n",
              "4         9105 170th Ave NE    Redmond  WA 98052     USA  "
            ]
          },
          "execution_count": 5,
          "metadata": {},
          "output_type": "execute_result"
        }
      ],
      "source": [
        "data.head()"
      ]
    },
    {
      "cell_type": "code",
      "execution_count": null,
      "metadata": {
        "colab": {
          "base_uri": "https://localhost:8080/"
        },
        "id": "JBNiNoghvvqY",
        "outputId": "8b74c51a-fb68-407f-ef33-12c2e3b037a9"
      },
      "outputs": [
        {
          "data": {
            "text/plain": [
              "price            0\n",
              "bedrooms         0\n",
              "bathrooms        0\n",
              "sqft_living      0\n",
              "sqft_lot         0\n",
              "floors           0\n",
              "waterfront       0\n",
              "view             0\n",
              "condition        0\n",
              "sqft_above       0\n",
              "sqft_basement    0\n",
              "yr_built         0\n",
              "yr_renovated     0\n",
              "street           0\n",
              "city             0\n",
              "statezip         0\n",
              "country          0\n",
              "dtype: int64"
            ]
          },
          "execution_count": 9,
          "metadata": {},
          "output_type": "execute_result"
        }
      ],
      "source": [
        "data.isna().sum()"
      ]
    },
    {
      "cell_type": "markdown",
      "metadata": {
        "id": "cef3gktQjfVQ"
      },
      "source": [
        "### Dropping Unnecessary columns"
      ]
    },
    {
      "cell_type": "code",
      "execution_count": null,
      "metadata": {
        "id": "dsnQCafXYjCF"
      },
      "outputs": [],
      "source": [
        "drop_cols = [\"country\",\"street\",\"city\",\"statezip\"]\n",
        "data.drop(columns = drop_cols,inplace = True)"
      ]
    },
    {
      "cell_type": "code",
      "execution_count": null,
      "metadata": {
        "colab": {
          "base_uri": "https://localhost:8080/",
          "height": 206
        },
        "id": "8yed8kV9knQz",
        "outputId": "813cd2dc-9da1-4e99-f0c5-31d877a46681"
      },
      "outputs": [
        {
          "data": {
            "text/html": [
              "<div>\n",
              "<style scoped>\n",
              "    .dataframe tbody tr th:only-of-type {\n",
              "        vertical-align: middle;\n",
              "    }\n",
              "\n",
              "    .dataframe tbody tr th {\n",
              "        vertical-align: top;\n",
              "    }\n",
              "\n",
              "    .dataframe thead th {\n",
              "        text-align: right;\n",
              "    }\n",
              "</style>\n",
              "<table border=\"1\" class=\"dataframe\">\n",
              "  <thead>\n",
              "    <tr style=\"text-align: right;\">\n",
              "      <th></th>\n",
              "      <th>price</th>\n",
              "      <th>bedrooms</th>\n",
              "      <th>bathrooms</th>\n",
              "      <th>sqft_living</th>\n",
              "      <th>sqft_lot</th>\n",
              "      <th>floors</th>\n",
              "      <th>waterfront</th>\n",
              "      <th>view</th>\n",
              "      <th>condition</th>\n",
              "      <th>sqft_above</th>\n",
              "      <th>sqft_basement</th>\n",
              "      <th>yr_built</th>\n",
              "      <th>yr_renovated</th>\n",
              "    </tr>\n",
              "  </thead>\n",
              "  <tbody>\n",
              "    <tr>\n",
              "      <th>0</th>\n",
              "      <td>313000.0</td>\n",
              "      <td>3</td>\n",
              "      <td>1.50</td>\n",
              "      <td>1340</td>\n",
              "      <td>7912</td>\n",
              "      <td>1.5</td>\n",
              "      <td>0</td>\n",
              "      <td>0</td>\n",
              "      <td>3</td>\n",
              "      <td>1340</td>\n",
              "      <td>0</td>\n",
              "      <td>1955</td>\n",
              "      <td>2005</td>\n",
              "    </tr>\n",
              "    <tr>\n",
              "      <th>1</th>\n",
              "      <td>2384000.0</td>\n",
              "      <td>5</td>\n",
              "      <td>2.50</td>\n",
              "      <td>3650</td>\n",
              "      <td>9050</td>\n",
              "      <td>2.0</td>\n",
              "      <td>0</td>\n",
              "      <td>4</td>\n",
              "      <td>5</td>\n",
              "      <td>3370</td>\n",
              "      <td>280</td>\n",
              "      <td>1921</td>\n",
              "      <td>0</td>\n",
              "    </tr>\n",
              "    <tr>\n",
              "      <th>2</th>\n",
              "      <td>342000.0</td>\n",
              "      <td>3</td>\n",
              "      <td>2.00</td>\n",
              "      <td>1930</td>\n",
              "      <td>11947</td>\n",
              "      <td>1.0</td>\n",
              "      <td>0</td>\n",
              "      <td>0</td>\n",
              "      <td>4</td>\n",
              "      <td>1930</td>\n",
              "      <td>0</td>\n",
              "      <td>1966</td>\n",
              "      <td>0</td>\n",
              "    </tr>\n",
              "    <tr>\n",
              "      <th>3</th>\n",
              "      <td>420000.0</td>\n",
              "      <td>3</td>\n",
              "      <td>2.25</td>\n",
              "      <td>2000</td>\n",
              "      <td>8030</td>\n",
              "      <td>1.0</td>\n",
              "      <td>0</td>\n",
              "      <td>0</td>\n",
              "      <td>4</td>\n",
              "      <td>1000</td>\n",
              "      <td>1000</td>\n",
              "      <td>1963</td>\n",
              "      <td>0</td>\n",
              "    </tr>\n",
              "    <tr>\n",
              "      <th>4</th>\n",
              "      <td>550000.0</td>\n",
              "      <td>4</td>\n",
              "      <td>2.50</td>\n",
              "      <td>1940</td>\n",
              "      <td>10500</td>\n",
              "      <td>1.0</td>\n",
              "      <td>0</td>\n",
              "      <td>0</td>\n",
              "      <td>4</td>\n",
              "      <td>1140</td>\n",
              "      <td>800</td>\n",
              "      <td>1976</td>\n",
              "      <td>1992</td>\n",
              "    </tr>\n",
              "  </tbody>\n",
              "</table>\n",
              "</div>"
            ],
            "text/plain": [
              "       price  bedrooms  bathrooms  sqft_living  sqft_lot  floors  waterfront  \\\n",
              "0   313000.0         3       1.50         1340      7912     1.5           0   \n",
              "1  2384000.0         5       2.50         3650      9050     2.0           0   \n",
              "2   342000.0         3       2.00         1930     11947     1.0           0   \n",
              "3   420000.0         3       2.25         2000      8030     1.0           0   \n",
              "4   550000.0         4       2.50         1940     10500     1.0           0   \n",
              "\n",
              "   view  condition  sqft_above  sqft_basement  yr_built  yr_renovated  \n",
              "0     0          3        1340              0      1955          2005  \n",
              "1     4          5        3370            280      1921             0  \n",
              "2     0          4        1930              0      1966             0  \n",
              "3     0          4        1000           1000      1963             0  \n",
              "4     0          4        1140            800      1976          1992  "
            ]
          },
          "execution_count": 11,
          "metadata": {},
          "output_type": "execute_result"
        }
      ],
      "source": [
        "data.head()"
      ]
    },
    {
      "cell_type": "code",
      "execution_count": null,
      "metadata": {
        "id": "25EnAoLsk55o"
      },
      "outputs": [],
      "source": [
        "data[\"yr_old\"] = 2022-data[\"yr_built\"]\n",
        "data[\"Renovate\"] = np.where(data[\"yr_renovated\"]>0,1,0)"
      ]
    },
    {
      "cell_type": "code",
      "execution_count": null,
      "metadata": {
        "id": "0kCbGszBlcFE"
      },
      "outputs": [],
      "source": [
        "data.drop(columns = [\"yr_built\",\"yr_renovated\"],inplace = True)"
      ]
    },
    {
      "cell_type": "code",
      "execution_count": null,
      "metadata": {
        "colab": {
          "base_uri": "https://localhost:8080/",
          "height": 457
        },
        "id": "HiPO3jkwlj17",
        "outputId": "d62f2fc3-81ae-441c-ef38-bac309ee16cd"
      },
      "outputs": [
        {
          "data": {
            "text/html": [
              "<div>\n",
              "<style scoped>\n",
              "    .dataframe tbody tr th:only-of-type {\n",
              "        vertical-align: middle;\n",
              "    }\n",
              "\n",
              "    .dataframe tbody tr th {\n",
              "        vertical-align: top;\n",
              "    }\n",
              "\n",
              "    .dataframe thead th {\n",
              "        text-align: right;\n",
              "    }\n",
              "</style>\n",
              "<table border=\"1\" class=\"dataframe\">\n",
              "  <thead>\n",
              "    <tr style=\"text-align: right;\">\n",
              "      <th></th>\n",
              "      <th>price</th>\n",
              "      <th>bedrooms</th>\n",
              "      <th>bathrooms</th>\n",
              "      <th>sqft_living</th>\n",
              "      <th>sqft_lot</th>\n",
              "      <th>floors</th>\n",
              "      <th>waterfront</th>\n",
              "      <th>view</th>\n",
              "      <th>condition</th>\n",
              "      <th>sqft_above</th>\n",
              "      <th>sqft_basement</th>\n",
              "      <th>yr_old</th>\n",
              "      <th>Renovate</th>\n",
              "    </tr>\n",
              "  </thead>\n",
              "  <tbody>\n",
              "    <tr>\n",
              "      <th>price</th>\n",
              "      <td>1.000000</td>\n",
              "      <td>0.200336</td>\n",
              "      <td>0.327110</td>\n",
              "      <td>0.430410</td>\n",
              "      <td>0.050451</td>\n",
              "      <td>0.151461</td>\n",
              "      <td>0.135648</td>\n",
              "      <td>0.228504</td>\n",
              "      <td>0.034915</td>\n",
              "      <td>0.367570</td>\n",
              "      <td>0.210427</td>\n",
              "      <td>-0.021857</td>\n",
              "      <td>-0.028595</td>\n",
              "    </tr>\n",
              "    <tr>\n",
              "      <th>bedrooms</th>\n",
              "      <td>0.200336</td>\n",
              "      <td>1.000000</td>\n",
              "      <td>0.545920</td>\n",
              "      <td>0.594884</td>\n",
              "      <td>0.068819</td>\n",
              "      <td>0.177895</td>\n",
              "      <td>-0.003483</td>\n",
              "      <td>0.111028</td>\n",
              "      <td>0.025080</td>\n",
              "      <td>0.484705</td>\n",
              "      <td>0.334165</td>\n",
              "      <td>-0.142461</td>\n",
              "      <td>-0.060720</td>\n",
              "    </tr>\n",
              "    <tr>\n",
              "      <th>bathrooms</th>\n",
              "      <td>0.327110</td>\n",
              "      <td>0.545920</td>\n",
              "      <td>1.000000</td>\n",
              "      <td>0.761154</td>\n",
              "      <td>0.107837</td>\n",
              "      <td>0.486428</td>\n",
              "      <td>0.076232</td>\n",
              "      <td>0.211960</td>\n",
              "      <td>-0.119994</td>\n",
              "      <td>0.689918</td>\n",
              "      <td>0.298020</td>\n",
              "      <td>-0.463498</td>\n",
              "      <td>-0.214931</td>\n",
              "    </tr>\n",
              "    <tr>\n",
              "      <th>sqft_living</th>\n",
              "      <td>0.430410</td>\n",
              "      <td>0.594884</td>\n",
              "      <td>0.761154</td>\n",
              "      <td>1.000000</td>\n",
              "      <td>0.210538</td>\n",
              "      <td>0.344850</td>\n",
              "      <td>0.117616</td>\n",
              "      <td>0.311009</td>\n",
              "      <td>-0.062826</td>\n",
              "      <td>0.876443</td>\n",
              "      <td>0.447206</td>\n",
              "      <td>-0.287775</td>\n",
              "      <td>-0.122265</td>\n",
              "    </tr>\n",
              "    <tr>\n",
              "      <th>sqft_lot</th>\n",
              "      <td>0.050451</td>\n",
              "      <td>0.068819</td>\n",
              "      <td>0.107837</td>\n",
              "      <td>0.210538</td>\n",
              "      <td>1.000000</td>\n",
              "      <td>0.003750</td>\n",
              "      <td>0.017241</td>\n",
              "      <td>0.073907</td>\n",
              "      <td>0.000558</td>\n",
              "      <td>0.216455</td>\n",
              "      <td>0.034842</td>\n",
              "      <td>-0.050706</td>\n",
              "      <td>-0.023187</td>\n",
              "    </tr>\n",
              "    <tr>\n",
              "      <th>floors</th>\n",
              "      <td>0.151461</td>\n",
              "      <td>0.177895</td>\n",
              "      <td>0.486428</td>\n",
              "      <td>0.344850</td>\n",
              "      <td>0.003750</td>\n",
              "      <td>1.000000</td>\n",
              "      <td>0.022024</td>\n",
              "      <td>0.031211</td>\n",
              "      <td>-0.275013</td>\n",
              "      <td>0.522814</td>\n",
              "      <td>-0.255510</td>\n",
              "      <td>-0.467481</td>\n",
              "      <td>-0.232399</td>\n",
              "    </tr>\n",
              "    <tr>\n",
              "      <th>waterfront</th>\n",
              "      <td>0.135648</td>\n",
              "      <td>-0.003483</td>\n",
              "      <td>0.076232</td>\n",
              "      <td>0.117616</td>\n",
              "      <td>0.017241</td>\n",
              "      <td>0.022024</td>\n",
              "      <td>1.000000</td>\n",
              "      <td>0.360935</td>\n",
              "      <td>0.000352</td>\n",
              "      <td>0.078911</td>\n",
              "      <td>0.097501</td>\n",
              "      <td>0.023563</td>\n",
              "      <td>0.008503</td>\n",
              "    </tr>\n",
              "    <tr>\n",
              "      <th>view</th>\n",
              "      <td>0.228504</td>\n",
              "      <td>0.111028</td>\n",
              "      <td>0.211960</td>\n",
              "      <td>0.311009</td>\n",
              "      <td>0.073907</td>\n",
              "      <td>0.031211</td>\n",
              "      <td>0.360935</td>\n",
              "      <td>1.000000</td>\n",
              "      <td>0.063077</td>\n",
              "      <td>0.174327</td>\n",
              "      <td>0.321602</td>\n",
              "      <td>0.064465</td>\n",
              "      <td>0.022860</td>\n",
              "    </tr>\n",
              "    <tr>\n",
              "      <th>condition</th>\n",
              "      <td>0.034915</td>\n",
              "      <td>0.025080</td>\n",
              "      <td>-0.119994</td>\n",
              "      <td>-0.062826</td>\n",
              "      <td>0.000558</td>\n",
              "      <td>-0.275013</td>\n",
              "      <td>0.000352</td>\n",
              "      <td>0.063077</td>\n",
              "      <td>1.000000</td>\n",
              "      <td>-0.178196</td>\n",
              "      <td>0.200632</td>\n",
              "      <td>0.399698</td>\n",
              "      <td>-0.185369</td>\n",
              "    </tr>\n",
              "    <tr>\n",
              "      <th>sqft_above</th>\n",
              "      <td>0.367570</td>\n",
              "      <td>0.484705</td>\n",
              "      <td>0.689918</td>\n",
              "      <td>0.876443</td>\n",
              "      <td>0.216455</td>\n",
              "      <td>0.522814</td>\n",
              "      <td>0.078911</td>\n",
              "      <td>0.174327</td>\n",
              "      <td>-0.178196</td>\n",
              "      <td>1.000000</td>\n",
              "      <td>-0.038723</td>\n",
              "      <td>-0.408535</td>\n",
              "      <td>-0.159518</td>\n",
              "    </tr>\n",
              "    <tr>\n",
              "      <th>sqft_basement</th>\n",
              "      <td>0.210427</td>\n",
              "      <td>0.334165</td>\n",
              "      <td>0.298020</td>\n",
              "      <td>0.447206</td>\n",
              "      <td>0.034842</td>\n",
              "      <td>-0.255510</td>\n",
              "      <td>0.097501</td>\n",
              "      <td>0.321602</td>\n",
              "      <td>0.200632</td>\n",
              "      <td>-0.038723</td>\n",
              "      <td>1.000000</td>\n",
              "      <td>0.161675</td>\n",
              "      <td>0.042583</td>\n",
              "    </tr>\n",
              "    <tr>\n",
              "      <th>yr_old</th>\n",
              "      <td>-0.021857</td>\n",
              "      <td>-0.142461</td>\n",
              "      <td>-0.463498</td>\n",
              "      <td>-0.287775</td>\n",
              "      <td>-0.050706</td>\n",
              "      <td>-0.467481</td>\n",
              "      <td>0.023563</td>\n",
              "      <td>0.064465</td>\n",
              "      <td>0.399698</td>\n",
              "      <td>-0.408535</td>\n",
              "      <td>0.161675</td>\n",
              "      <td>1.000000</td>\n",
              "      <td>0.320180</td>\n",
              "    </tr>\n",
              "    <tr>\n",
              "      <th>Renovate</th>\n",
              "      <td>-0.028595</td>\n",
              "      <td>-0.060720</td>\n",
              "      <td>-0.214931</td>\n",
              "      <td>-0.122265</td>\n",
              "      <td>-0.023187</td>\n",
              "      <td>-0.232399</td>\n",
              "      <td>0.008503</td>\n",
              "      <td>0.022860</td>\n",
              "      <td>-0.185369</td>\n",
              "      <td>-0.159518</td>\n",
              "      <td>0.042583</td>\n",
              "      <td>0.320180</td>\n",
              "      <td>1.000000</td>\n",
              "    </tr>\n",
              "  </tbody>\n",
              "</table>\n",
              "</div>"
            ],
            "text/plain": [
              "                  price  bedrooms  bathrooms  sqft_living  sqft_lot    floors  \\\n",
              "price          1.000000  0.200336   0.327110     0.430410  0.050451  0.151461   \n",
              "bedrooms       0.200336  1.000000   0.545920     0.594884  0.068819  0.177895   \n",
              "bathrooms      0.327110  0.545920   1.000000     0.761154  0.107837  0.486428   \n",
              "sqft_living    0.430410  0.594884   0.761154     1.000000  0.210538  0.344850   \n",
              "sqft_lot       0.050451  0.068819   0.107837     0.210538  1.000000  0.003750   \n",
              "floors         0.151461  0.177895   0.486428     0.344850  0.003750  1.000000   \n",
              "waterfront     0.135648 -0.003483   0.076232     0.117616  0.017241  0.022024   \n",
              "view           0.228504  0.111028   0.211960     0.311009  0.073907  0.031211   \n",
              "condition      0.034915  0.025080  -0.119994    -0.062826  0.000558 -0.275013   \n",
              "sqft_above     0.367570  0.484705   0.689918     0.876443  0.216455  0.522814   \n",
              "sqft_basement  0.210427  0.334165   0.298020     0.447206  0.034842 -0.255510   \n",
              "yr_old        -0.021857 -0.142461  -0.463498    -0.287775 -0.050706 -0.467481   \n",
              "Renovate      -0.028595 -0.060720  -0.214931    -0.122265 -0.023187 -0.232399   \n",
              "\n",
              "               waterfront      view  condition  sqft_above  sqft_basement  \\\n",
              "price            0.135648  0.228504   0.034915    0.367570       0.210427   \n",
              "bedrooms        -0.003483  0.111028   0.025080    0.484705       0.334165   \n",
              "bathrooms        0.076232  0.211960  -0.119994    0.689918       0.298020   \n",
              "sqft_living      0.117616  0.311009  -0.062826    0.876443       0.447206   \n",
              "sqft_lot         0.017241  0.073907   0.000558    0.216455       0.034842   \n",
              "floors           0.022024  0.031211  -0.275013    0.522814      -0.255510   \n",
              "waterfront       1.000000  0.360935   0.000352    0.078911       0.097501   \n",
              "view             0.360935  1.000000   0.063077    0.174327       0.321602   \n",
              "condition        0.000352  0.063077   1.000000   -0.178196       0.200632   \n",
              "sqft_above       0.078911  0.174327  -0.178196    1.000000      -0.038723   \n",
              "sqft_basement    0.097501  0.321602   0.200632   -0.038723       1.000000   \n",
              "yr_old           0.023563  0.064465   0.399698   -0.408535       0.161675   \n",
              "Renovate         0.008503  0.022860  -0.185369   -0.159518       0.042583   \n",
              "\n",
              "                 yr_old  Renovate  \n",
              "price         -0.021857 -0.028595  \n",
              "bedrooms      -0.142461 -0.060720  \n",
              "bathrooms     -0.463498 -0.214931  \n",
              "sqft_living   -0.287775 -0.122265  \n",
              "sqft_lot      -0.050706 -0.023187  \n",
              "floors        -0.467481 -0.232399  \n",
              "waterfront     0.023563  0.008503  \n",
              "view           0.064465  0.022860  \n",
              "condition      0.399698 -0.185369  \n",
              "sqft_above    -0.408535 -0.159518  \n",
              "sqft_basement  0.161675  0.042583  \n",
              "yr_old         1.000000  0.320180  \n",
              "Renovate       0.320180  1.000000  "
            ]
          },
          "execution_count": 14,
          "metadata": {},
          "output_type": "execute_result"
        }
      ],
      "source": [
        "data.corr()"
      ]
    },
    {
      "cell_type": "markdown",
      "metadata": {
        "id": "jSOrMR_aIT4z"
      },
      "source": [
        "### Spliting data "
      ]
    },
    {
      "cell_type": "code",
      "execution_count": null,
      "metadata": {
        "id": "TE-P93ErlrDB"
      },
      "outputs": [],
      "source": [
        "x = data.drop(columns = [\"price\"])\n",
        "y = data[[\"price\"]]"
      ]
    },
    {
      "cell_type": "code",
      "execution_count": null,
      "metadata": {
        "id": "lVymtKiem_5n"
      },
      "outputs": [],
      "source": [
        "from sklearn.preprocessing import MinMaxScaler, StandardScaler\n",
        "ms = MinMaxScaler()\n",
        "sc = StandardScaler()\n",
        "x = ms.fit_transform(np.array(x))\n",
        "y = ms.fit_transform(np.array(y))"
      ]
    },
    {
      "cell_type": "code",
      "execution_count": null,
      "metadata": {
        "id": "2MOZuLdhl2Di"
      },
      "outputs": [],
      "source": [
        "from sklearn.model_selection import train_test_split\n",
        "x_train,x_test,y_train,y_test = train_test_split(x,y,test_size = 0.2, random_state = 1)"
      ]
    },
    {
      "cell_type": "code",
      "execution_count": null,
      "metadata": {
        "id": "ZxYNM6j7pg52"
      },
      "outputs": [],
      "source": [
        "import tensorflow as tf"
      ]
    },
    {
      "cell_type": "markdown",
      "metadata": {
        "id": "BZBytSMeIT44"
      },
      "source": [
        "### Building model"
      ]
    },
    {
      "cell_type": "code",
      "execution_count": null,
      "metadata": {
        "id": "jQfpa9N2oEi9"
      },
      "outputs": [],
      "source": [
        "def build_model(hp):\n",
        "    model = keras.Sequential()\n",
        "    for i in range(hp.Int('num_layers',2, 20)):\n",
        "        model.add(layers.Dense(units = hp.Int('Units_' + str(i), min_value = 32, max_value = 512, step = 30), \n",
        "                               activation='relu'))\n",
        "        model.add(layers.Dense(units = 1, activation = 'linear'))\n",
        "        model.compile(\n",
        "            optimizer = tf.keras.optimizers.Adam(\n",
        "                hp.Choice('Learning_rate', [1e-2, 1e-3, 1e-4])), \n",
        "            loss = 'mse',\n",
        "            metrics = ['mse'])\n",
        "    return model"
      ]
    },
    {
      "cell_type": "code",
      "execution_count": null,
      "metadata": {
        "id": "xCFtNjVPpA-C"
      },
      "outputs": [],
      "source": [
        "tunner = RandomSearch(build_model, \n",
        "                      objective = 'val_mse',\n",
        "                      max_trials = 5,\n",
        "                      executions_per_trial = 3\n",
        "                     )"
      ]
    },
    {
      "cell_type": "code",
      "execution_count": null,
      "metadata": {
        "colab": {
          "base_uri": "https://localhost:8080/"
        },
        "id": "VS7aFO5JpZgy",
        "outputId": "4a908689-7327-4b3c-ce6e-a33433244a41"
      },
      "outputs": [
        {
          "name": "stdout",
          "output_type": "stream",
          "text": [
            "Trial 5 Complete [00h 00m 33s]\n",
            "val_mse: 0.00017296829416106144\n",
            "\n",
            "Best val_mse So Far: 0.00010749481831832479\n",
            "Total elapsed time: 00h 02m 15s\n",
            "INFO:tensorflow:Oracle triggered exit\n"
          ]
        }
      ],
      "source": [
        "tunner.search(x_train, y_train, epochs = 5, validation_data = (x_test, y_test))"
      ]
    },
    {
      "cell_type": "code",
      "execution_count": null,
      "metadata": {
        "colab": {
          "base_uri": "https://localhost:8080/"
        },
        "id": "mEF-l9rWqKdM",
        "outputId": "5265e8d3-d4b1-4465-dd23-ac21fac33024"
      },
      "outputs": [
        {
          "name": "stdout",
          "output_type": "stream",
          "text": [
            "Results summary\n",
            "Results in .\\untitled_project\n",
            "Showing 10 best trials\n",
            "<keras_tuner.engine.objective.Objective object at 0x00000177E47CE970>\n",
            "Trial summary\n",
            "Hyperparameters:\n",
            "num_layers: 2\n",
            "Units_0: 92\n",
            "Learning_rate: 0.01\n",
            "Units_1: 62\n",
            "Score: 0.00010749481831832479\n",
            "Trial summary\n",
            "Hyperparameters:\n",
            "num_layers: 6\n",
            "Units_0: 482\n",
            "Learning_rate: 0.0001\n",
            "Units_1: 122\n",
            "Units_2: 302\n",
            "Units_3: 62\n",
            "Units_4: 422\n",
            "Units_5: 362\n",
            "Units_6: 182\n",
            "Units_7: 362\n",
            "Units_8: 362\n",
            "Units_9: 422\n",
            "Units_10: 272\n",
            "Units_11: 482\n",
            "Units_12: 272\n",
            "Units_13: 332\n",
            "Units_14: 302\n",
            "Units_15: 272\n",
            "Units_16: 182\n",
            "Units_17: 122\n",
            "Score: 0.00012282053648959845\n",
            "Trial summary\n",
            "Hyperparameters:\n",
            "num_layers: 19\n",
            "Units_0: 362\n",
            "Learning_rate: 0.01\n",
            "Units_1: 512\n",
            "Units_2: 212\n",
            "Units_3: 152\n",
            "Units_4: 122\n",
            "Units_5: 422\n",
            "Units_6: 62\n",
            "Units_7: 482\n",
            "Units_8: 212\n",
            "Units_9: 182\n",
            "Units_10: 302\n",
            "Units_11: 152\n",
            "Units_12: 332\n",
            "Units_13: 392\n",
            "Units_14: 152\n",
            "Units_15: 512\n",
            "Units_16: 212\n",
            "Units_17: 332\n",
            "Units_18: 32\n",
            "Score: 0.00017282820772379637\n",
            "Trial summary\n",
            "Hyperparameters:\n",
            "num_layers: 18\n",
            "Units_0: 62\n",
            "Learning_rate: 0.0001\n",
            "Units_1: 362\n",
            "Units_2: 32\n",
            "Units_3: 32\n",
            "Units_4: 32\n",
            "Units_5: 32\n",
            "Units_6: 32\n",
            "Units_7: 32\n",
            "Units_8: 32\n",
            "Units_9: 32\n",
            "Units_10: 32\n",
            "Units_11: 32\n",
            "Units_12: 32\n",
            "Units_13: 32\n",
            "Units_14: 32\n",
            "Units_15: 32\n",
            "Units_16: 32\n",
            "Units_17: 32\n",
            "Score: 0.00017287512794913104\n",
            "Trial summary\n",
            "Hyperparameters:\n",
            "num_layers: 16\n",
            "Units_0: 122\n",
            "Learning_rate: 0.01\n",
            "Units_1: 92\n",
            "Units_2: 212\n",
            "Units_3: 182\n",
            "Units_4: 482\n",
            "Units_5: 152\n",
            "Units_6: 392\n",
            "Units_7: 182\n",
            "Units_8: 452\n",
            "Units_9: 122\n",
            "Units_10: 422\n",
            "Units_11: 482\n",
            "Units_12: 182\n",
            "Units_13: 32\n",
            "Units_14: 362\n",
            "Units_15: 422\n",
            "Units_16: 242\n",
            "Units_17: 92\n",
            "Units_18: 482\n",
            "Score: 0.00017296829416106144\n"
          ]
        }
      ],
      "source": [
        "tunner.results_summary()"
      ]
    },
    {
      "cell_type": "code",
      "execution_count": null,
      "metadata": {
        "id": "4eL40EciucRM"
      },
      "outputs": [],
      "source": [
        "from keras.models import Sequential"
      ]
    },
    {
      "cell_type": "code",
      "execution_count": null,
      "metadata": {
        "id": "z57ow0Pstba5"
      },
      "outputs": [],
      "source": [
        "model = Sequential()\n",
        "model.add(Dense(212,input_dim = x_train.shape[1],activation = \"relu\"))\n",
        "model.add(Dense(332,activation = \"relu\"))\n",
        "model.add(Dense(362,activation = \"relu\"))\n",
        "model.add(Dense(212,activation = \"relu\"))\n",
        "model.add(Dense(362,activation = \"relu\"))\n",
        "model.add(Dense(452,activation = \"relu\"))\n",
        "model.add(Dense(152,activation = \"relu\"))\n",
        "model.add(Dense(182,activation = \"relu\"))\n",
        "model.add(Dense(272,activation = \"relu\"))\n",
        "model.add(Dense(32,activation = \"relu\"))\n",
        "model.add(Dense(1,activation = \"linear\"))"
      ]
    },
    {
      "cell_type": "code",
      "execution_count": null,
      "metadata": {
        "colab": {
          "base_uri": "https://localhost:8080/"
        },
        "id": "soBZ7pl-ua0v",
        "outputId": "ee6c3322-8633-4cb0-ce37-01e0f7ae591f"
      },
      "outputs": [
        {
          "name": "stderr",
          "output_type": "stream",
          "text": [
            "C:\\Users\\SHREYA\\anaconda3\\lib\\site-packages\\keras\\optimizers\\optimizer_v2\\adam.py:110: UserWarning: The `lr` argument is deprecated, use `learning_rate` instead.\n",
            "  super(Adam, self).__init__(name, **kwargs)\n"
          ]
        }
      ],
      "source": [
        "model.compile(loss = \"mse\",optimizer = tf.keras.optimizers.Adam(lr = 0.001),metrics = [\"mse\"])"
      ]
    },
    {
      "cell_type": "code",
      "execution_count": null,
      "metadata": {
        "colab": {
          "base_uri": "https://localhost:8080/"
        },
        "id": "iVgr0VFCur7B",
        "outputId": "1ed8a84f-90b8-4744-c202-86338b7064ff"
      },
      "outputs": [
        {
          "name": "stdout",
          "output_type": "stream",
          "text": [
            "Epoch 1/50\n",
            "184/184 [==============================] - 4s 13ms/step - loss: 4.8968e-04 - mse: 4.8968e-04 - val_loss: 1.0805e-04 - val_mse: 1.0805e-04\n",
            "Epoch 2/50\n",
            "184/184 [==============================] - 2s 11ms/step - loss: 4.7418e-04 - mse: 4.7418e-04 - val_loss: 1.7222e-04 - val_mse: 1.7222e-04\n",
            "Epoch 3/50\n",
            "184/184 [==============================] - 2s 12ms/step - loss: 4.8352e-04 - mse: 4.8352e-04 - val_loss: 1.1546e-04 - val_mse: 1.1546e-04\n",
            "Epoch 4/50\n",
            "184/184 [==============================] - 2s 12ms/step - loss: 4.7026e-04 - mse: 4.7026e-04 - val_loss: 1.0919e-04 - val_mse: 1.0919e-04\n",
            "Epoch 5/50\n",
            "184/184 [==============================] - 2s 11ms/step - loss: 4.4675e-04 - mse: 4.4675e-04 - val_loss: 9.6839e-05 - val_mse: 9.6839e-05\n",
            "Epoch 6/50\n",
            "184/184 [==============================] - 2s 12ms/step - loss: 4.5847e-04 - mse: 4.5847e-04 - val_loss: 1.4207e-04 - val_mse: 1.4207e-04\n",
            "Epoch 7/50\n",
            "184/184 [==============================] - 2s 12ms/step - loss: 4.5667e-04 - mse: 4.5667e-04 - val_loss: 9.6339e-05 - val_mse: 9.6339e-05\n",
            "Epoch 8/50\n",
            "184/184 [==============================] - 2s 12ms/step - loss: 5.9587e-04 - mse: 5.9587e-04 - val_loss: 1.0842e-04 - val_mse: 1.0842e-04\n",
            "Epoch 9/50\n",
            "184/184 [==============================] - 2s 12ms/step - loss: 4.7641e-04 - mse: 4.7641e-04 - val_loss: 1.0446e-04 - val_mse: 1.0446e-04\n",
            "Epoch 10/50\n",
            "184/184 [==============================] - 2s 12ms/step - loss: 4.5465e-04 - mse: 4.5465e-04 - val_loss: 1.1919e-04 - val_mse: 1.1919e-04\n",
            "Epoch 11/50\n",
            "184/184 [==============================] - 2s 12ms/step - loss: 4.4702e-04 - mse: 4.4702e-04 - val_loss: 9.3570e-05 - val_mse: 9.3570e-05\n",
            "Epoch 12/50\n",
            "184/184 [==============================] - 2s 12ms/step - loss: 4.4622e-04 - mse: 4.4622e-04 - val_loss: 9.1580e-05 - val_mse: 9.1580e-05\n",
            "Epoch 13/50\n",
            "184/184 [==============================] - 2s 12ms/step - loss: 4.3535e-04 - mse: 4.3535e-04 - val_loss: 9.8055e-05 - val_mse: 9.8055e-05\n",
            "Epoch 14/50\n",
            "184/184 [==============================] - 2s 11ms/step - loss: 5.5046e-04 - mse: 5.5046e-04 - val_loss: 1.2213e-04 - val_mse: 1.2213e-04\n",
            "Epoch 15/50\n",
            "184/184 [==============================] - 2s 11ms/step - loss: 4.6152e-04 - mse: 4.6152e-04 - val_loss: 1.0083e-04 - val_mse: 1.0083e-04\n",
            "Epoch 16/50\n",
            "184/184 [==============================] - 2s 11ms/step - loss: 4.4233e-04 - mse: 4.4233e-04 - val_loss: 9.0059e-05 - val_mse: 9.0059e-05\n",
            "Epoch 17/50\n",
            "184/184 [==============================] - 2s 11ms/step - loss: 4.3738e-04 - mse: 4.3738e-04 - val_loss: 9.9453e-05 - val_mse: 9.9453e-05\n",
            "Epoch 18/50\n",
            "184/184 [==============================] - 2s 11ms/step - loss: 4.3422e-04 - mse: 4.3422e-04 - val_loss: 1.1534e-04 - val_mse: 1.1534e-04\n",
            "Epoch 19/50\n",
            "184/184 [==============================] - 2s 12ms/step - loss: 4.3326e-04 - mse: 4.3326e-04 - val_loss: 9.5597e-05 - val_mse: 9.5597e-05\n",
            "Epoch 20/50\n",
            "184/184 [==============================] - 2s 12ms/step - loss: 4.3621e-04 - mse: 4.3621e-04 - val_loss: 1.0066e-04 - val_mse: 1.0066e-04\n",
            "Epoch 21/50\n",
            "184/184 [==============================] - 3s 14ms/step - loss: 4.2773e-04 - mse: 4.2773e-04 - val_loss: 9.2822e-05 - val_mse: 9.2822e-05\n",
            "Epoch 22/50\n",
            "184/184 [==============================] - 2s 12ms/step - loss: 4.2202e-04 - mse: 4.2202e-04 - val_loss: 9.3468e-05 - val_mse: 9.3468e-05\n",
            "Epoch 23/50\n",
            "184/184 [==============================] - 2s 13ms/step - loss: 4.1693e-04 - mse: 4.1693e-04 - val_loss: 1.0396e-04 - val_mse: 1.0396e-04\n",
            "Epoch 24/50\n",
            "184/184 [==============================] - 2s 10ms/step - loss: 4.2561e-04 - mse: 4.2561e-04 - val_loss: 1.1541e-04 - val_mse: 1.1541e-04\n",
            "Epoch 25/50\n",
            "184/184 [==============================] - 2s 11ms/step - loss: 4.3713e-04 - mse: 4.3713e-04 - val_loss: 1.0739e-04 - val_mse: 1.0739e-04\n",
            "Epoch 26/50\n",
            "184/184 [==============================] - 2s 13ms/step - loss: 4.2349e-04 - mse: 4.2349e-04 - val_loss: 9.5932e-05 - val_mse: 9.5932e-05\n",
            "Epoch 27/50\n",
            "184/184 [==============================] - 2s 12ms/step - loss: 4.1452e-04 - mse: 4.1452e-04 - val_loss: 9.0687e-05 - val_mse: 9.0687e-05\n",
            "Epoch 28/50\n",
            "184/184 [==============================] - 2s 11ms/step - loss: 4.1661e-04 - mse: 4.1661e-04 - val_loss: 1.0177e-04 - val_mse: 1.0177e-04\n",
            "Epoch 29/50\n",
            "184/184 [==============================] - 2s 11ms/step - loss: 4.2872e-04 - mse: 4.2872e-04 - val_loss: 9.2597e-05 - val_mse: 9.2597e-05\n",
            "Epoch 30/50\n",
            "184/184 [==============================] - 2s 11ms/step - loss: 4.4498e-04 - mse: 4.4498e-04 - val_loss: 1.0985e-04 - val_mse: 1.0985e-04\n",
            "Epoch 31/50\n",
            "184/184 [==============================] - 2s 11ms/step - loss: 4.3939e-04 - mse: 4.3939e-04 - val_loss: 1.0228e-04 - val_mse: 1.0228e-04\n",
            "Epoch 32/50\n",
            "184/184 [==============================] - 2s 11ms/step - loss: 4.2818e-04 - mse: 4.2818e-04 - val_loss: 9.5510e-05 - val_mse: 9.5510e-05\n",
            "Epoch 33/50\n",
            "184/184 [==============================] - 2s 11ms/step - loss: 4.1854e-04 - mse: 4.1854e-04 - val_loss: 1.5988e-04 - val_mse: 1.5988e-04\n",
            "Epoch 34/50\n",
            "184/184 [==============================] - 2s 11ms/step - loss: 4.2929e-04 - mse: 4.2929e-04 - val_loss: 9.1294e-05 - val_mse: 9.1294e-05\n",
            "Epoch 35/50\n",
            "184/184 [==============================] - 2s 13ms/step - loss: 4.1967e-04 - mse: 4.1967e-04 - val_loss: 3.5473e-04 - val_mse: 3.5473e-04\n",
            "Epoch 36/50\n",
            "184/184 [==============================] - 2s 12ms/step - loss: 4.3202e-04 - mse: 4.3202e-04 - val_loss: 9.2114e-05 - val_mse: 9.2114e-05\n",
            "Epoch 37/50\n",
            "184/184 [==============================] - 2s 11ms/step - loss: 4.1957e-04 - mse: 4.1957e-04 - val_loss: 1.0603e-04 - val_mse: 1.0603e-04\n",
            "Epoch 38/50\n",
            "184/184 [==============================] - 2s 13ms/step - loss: 4.1897e-04 - mse: 4.1897e-04 - val_loss: 8.7233e-05 - val_mse: 8.7233e-05\n",
            "Epoch 39/50\n",
            "184/184 [==============================] - 2s 11ms/step - loss: 4.1117e-04 - mse: 4.1117e-04 - val_loss: 8.8727e-05 - val_mse: 8.8727e-05\n",
            "Epoch 40/50\n",
            "184/184 [==============================] - 2s 11ms/step - loss: 4.3741e-04 - mse: 4.3741e-04 - val_loss: 8.5383e-05 - val_mse: 8.5383e-05\n",
            "Epoch 41/50\n",
            "184/184 [==============================] - 3s 14ms/step - loss: 4.1146e-04 - mse: 4.1146e-04 - val_loss: 8.9143e-05 - val_mse: 8.9143e-05\n",
            "Epoch 42/50\n",
            "184/184 [==============================] - 3s 16ms/step - loss: 4.1248e-04 - mse: 4.1248e-04 - val_loss: 9.4426e-05 - val_mse: 9.4426e-05\n",
            "Epoch 43/50\n",
            "184/184 [==============================] - 2s 11ms/step - loss: 4.1032e-04 - mse: 4.1032e-04 - val_loss: 9.0416e-05 - val_mse: 9.0416e-05\n",
            "Epoch 44/50\n",
            "184/184 [==============================] - 2s 11ms/step - loss: 4.1539e-04 - mse: 4.1539e-04 - val_loss: 8.2748e-05 - val_mse: 8.2748e-05\n",
            "Epoch 45/50\n",
            "184/184 [==============================] - 2s 11ms/step - loss: 4.1106e-04 - mse: 4.1106e-04 - val_loss: 8.7183e-05 - val_mse: 8.7183e-05\n",
            "Epoch 46/50\n",
            "184/184 [==============================] - 2s 12ms/step - loss: 4.0837e-04 - mse: 4.0837e-04 - val_loss: 1.0260e-04 - val_mse: 1.0260e-04\n",
            "Epoch 47/50\n",
            "184/184 [==============================] - 2s 14ms/step - loss: 4.1659e-04 - mse: 4.1659e-04 - val_loss: 1.0073e-04 - val_mse: 1.0073e-04\n",
            "Epoch 48/50\n",
            "184/184 [==============================] - 2s 14ms/step - loss: 4.1387e-04 - mse: 4.1387e-04 - val_loss: 8.8045e-05 - val_mse: 8.8045e-05\n",
            "Epoch 49/50\n",
            "184/184 [==============================] - 2s 12ms/step - loss: 4.1321e-04 - mse: 4.1321e-04 - val_loss: 1.1571e-04 - val_mse: 1.1571e-04\n",
            "Epoch 50/50\n",
            "184/184 [==============================] - 2s 12ms/step - loss: 4.0331e-04 - mse: 4.0331e-04 - val_loss: 2.2008e-04 - val_mse: 2.2008e-04\n"
          ]
        },
        {
          "data": {
            "text/plain": [
              "<keras.callbacks.History at 0x177f0c318b0>"
            ]
          },
          "execution_count": 26,
          "metadata": {},
          "output_type": "execute_result"
        }
      ],
      "source": [
        "model.fit(x_train, y_train, epochs = 50,batch_size = 20,validation_data =  (x_test,y_test))"
      ]
    },
    {
      "cell_type": "code",
      "execution_count": null,
      "metadata": {
        "id": "l3-5o9b5vAC9",
        "outputId": "6eb3c5b6-a6f3-48e8-d376-89fc25ac498b"
      },
      "outputs": [
        {
          "name": "stdout",
          "output_type": "stream",
          "text": [
            "29/29 [==============================] - 1s 6ms/step\n"
          ]
        }
      ],
      "source": [
        "pred = model.predict(x_test)"
      ]
    },
    {
      "cell_type": "code",
      "execution_count": null,
      "metadata": {
        "colab": {
          "base_uri": "https://localhost:8080/"
        },
        "id": "v67k3SXExYo3",
        "outputId": "7b4445d7-1785-4150-8b62-99b8c90b2ac0"
      },
      "outputs": [
        {
          "data": {
            "text/plain": [
              "-0.27595325978149243"
            ]
          },
          "execution_count": 28,
          "metadata": {},
          "output_type": "execute_result"
        }
      ],
      "source": [
        "from sklearn.metrics import r2_score\n",
        "r2_score(y_test,pred)"
      ]
    }
  ],
  "metadata": {
    "accelerator": "GPU",
    "colab": {
      "collapsed_sections": [],
      "name": "1132210046_Mithilesh Chaudhari_Assignment 2.ipynb",
      "provenance": [],
      "include_colab_link": true
    },
    "gpuClass": "standard",
    "kernelspec": {
      "display_name": "Python 3 (ipykernel)",
      "language": "python",
      "name": "python3"
    },
    "language_info": {
      "codemirror_mode": {
        "name": "ipython",
        "version": 3
      },
      "file_extension": ".py",
      "mimetype": "text/x-python",
      "name": "python",
      "nbconvert_exporter": "python",
      "pygments_lexer": "ipython3",
      "version": "3.9.12"
    }
  },
  "nbformat": 4,
  "nbformat_minor": 0
}