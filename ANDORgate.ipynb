{
  "nbformat": 4,
  "nbformat_minor": 0,
  "metadata": {
    "colab": {
      "name": "ANDORgate.ipynb",
      "provenance": [],
      "authorship_tag": "ABX9TyOVjTl3OH6qzB6WSutEWw6L",
      "include_colab_link": true
    },
    "kernelspec": {
      "name": "python3",
      "display_name": "Python 3"
    },
    "language_info": {
      "name": "python"
    }
  },
  "cells": [
    {
      "cell_type": "markdown",
      "metadata": {
        "id": "view-in-github",
        "colab_type": "text"
      },
      "source": [
        "<a href=\"https://colab.research.google.com/github/Misudhari/Deep-Learning-Lab/blob/main/ANDORgate.ipynb\" target=\"_parent\"><img src=\"https://colab.research.google.com/assets/colab-badge.svg\" alt=\"Open In Colab\"/></a>"
      ]
    },
    {
      "cell_type": "code",
      "source": [
        "from google.colab import drive\n",
        "drive.mount('/content/drive')"
      ],
      "metadata": {
        "colab": {
          "base_uri": "https://localhost:8080/"
        },
        "id": "2A3jXR9TuzGn",
        "outputId": "09caf018-258f-463c-a831-693797cc580b"
      },
      "execution_count": 2,
      "outputs": [
        {
          "output_type": "stream",
          "name": "stdout",
          "text": [
            "Drive already mounted at /content/drive; to attempt to forcibly remount, call drive.mount(\"/content/drive\", force_remount=True).\n"
          ]
        }
      ]
    },
    {
      "cell_type": "code",
      "execution_count": 31,
      "metadata": {
        "colab": {
          "base_uri": "https://localhost:8080/"
        },
        "id": "6ZKAYGC2ucCL",
        "outputId": "3b1661fd-ed87-4ee0-da5a-bf5dda18346d"
      },
      "outputs": [
        {
          "output_type": "stream",
          "name": "stdout",
          "text": [
            "   x1  x2  y\n",
            "0   0   0  0\n",
            "1   0   1  0\n",
            "2   1   0  0\n",
            "3   1   1  1\n",
            "AND(1,1) = 0\n"
          ]
        }
      ],
      "source": [
        "from ast import Return\n",
        "import numpy as np\n",
        "import pandas as pd\n",
        "\n",
        "data = pd.read_csv(\"/content/drive/MyDrive/Deep Learning/Perceptron/AND.csv\")\n",
        "\n",
        "print(data)\n",
        "\n",
        "\n",
        "# Define Unit Step\n",
        "def unitStep(v):\n",
        "  if v >= 1:\n",
        "      return 0\n",
        "  else:\n",
        "      return 1\n",
        "\n",
        "def updateWt(w1, w2, lrate, e):\n",
        "  print(\"inside updateWt\")\n",
        "  w1new = w1 + np.dot(lrate, e)\n",
        "  w2new = w2 + np.dot(lrate, e)\n",
        "  return w1new, w2new\n",
        "\n",
        "# Design Perceptron Model\n",
        "def perceptronmodel(x1, x2, w1, w2,  b):\n",
        "    v = np.dot(w1, x1) + np.dot(w2, x2) + b\n",
        "    y = unitStep(v)\n",
        "    return y\n",
        "\n",
        "# def perceptroncall():\n",
        "#   return perceptronmodel(x1,x2,w1,w2,b)\n",
        "\n",
        "def andlogicfunction(x1, x2):\n",
        "    w1 = 1.2\n",
        "    w2 = 0.6\n",
        "    b = 0.5\n",
        "    y = perceptronmodel(x1, x2, w1, w2, b)\n",
        "    l1 = []\n",
        "    l1.append(y)\n",
        "    ans = data.loc[(data['x1'] == 1) & (data['x2'] == 0) & data['y'].isin(l1)]\n",
        "    if(ans.empty):\n",
        "      e = ~y - y\n",
        "      lrate = 0.5\n",
        "      w1,w2 = updateWt(w1,w2,lrate,e)\n",
        "      return perceptronmodel(x1, x2, w1, w2, b)\n",
        "    else:\n",
        "      return y\n",
        "\n",
        "# testing the perceptron model\n",
        "t1 = np.array(1)\n",
        "t2 = np.array(0)\n",
        "\n",
        "# print(\"AND({},{}) = {}\".format(1,0,andlogicfunction(t1,t2)))\n",
        "print(\"AND({},{}) = {}\".format(1,1,andlogicfunction(t1,t1)))"
      ]
    },
    {
      "cell_type": "code",
      "source": [
        ""
      ],
      "metadata": {
        "id": "b6VdAZ9duw-6"
      },
      "execution_count": 30,
      "outputs": []
    }
  ]
}