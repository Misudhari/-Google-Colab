{
  "nbformat": 4,
  "nbformat_minor": 0,
  "metadata": {
    "colab": {
      "provenance": [],
      "authorship_tag": "ABX9TyPcOxQzT3rsyN1cVnHmRP2Z",
      "include_colab_link": true
    },
    "kernelspec": {
      "name": "python3",
      "display_name": "Python 3"
    },
    "language_info": {
      "name": "python"
    }
  },
  "cells": [
    {
      "cell_type": "markdown",
      "metadata": {
        "id": "view-in-github",
        "colab_type": "text"
      },
      "source": [
        "<a href=\"https://colab.research.google.com/github/Misudhari/Deep-Learning-Lab/blob/main/DL_Lab_Fake_News_Dataset.ipynb\" target=\"_parent\"><img src=\"https://colab.research.google.com/assets/colab-badge.svg\" alt=\"Open In Colab\"/></a>"
      ]
    },
    {
      "cell_type": "code",
      "source": [
        "from google.colab import drive\n",
        "drive.mount('/content/drive')"
      ],
      "metadata": {
        "colab": {
          "base_uri": "https://localhost:8080/"
        },
        "id": "8HQ2XhXZWWZy",
        "outputId": "8ebbe996-915f-45a5-8c5e-51285cc585b2"
      },
      "execution_count": 1,
      "outputs": [
        {
          "output_type": "stream",
          "name": "stdout",
          "text": [
            "Mounted at /content/drive\n"
          ]
        }
      ]
    },
    {
      "cell_type": "code",
      "source": [
        "import pandas as pd\n",
        "\n",
        "test_df = pd.read_csv('/content/drive/MyDrive/Datasets/Fake News/test.csv', index_col= 'id')\n",
        "train_df = pd.read_csv('/content/drive/MyDrive/Datasets/Fake News/train.csv', index_col='id')"
      ],
      "metadata": {
        "id": "Jf5ru3C_WY9q"
      },
      "execution_count": 13,
      "outputs": []
    },
    {
      "cell_type": "code",
      "source": [
        "test_df.head()"
      ],
      "metadata": {
        "colab": {
          "base_uri": "https://localhost:8080/",
          "height": 237
        },
        "id": "LArUFv63Xu8i",
        "outputId": "7c8fc53f-487d-4c2e-8d23-ac0fb899305f"
      },
      "execution_count": 14,
      "outputs": [
        {
          "output_type": "execute_result",
          "data": {
            "text/plain": [
              "                                                   title  \\\n",
              "id                                                         \n",
              "20800  Specter of Trump Loosens Tongues, if Not Purse...   \n",
              "20801  Russian warships ready to strike terrorists ne...   \n",
              "20802  #NoDAPL: Native American Leaders Vow to Stay A...   \n",
              "20803  Tim Tebow Will Attempt Another Comeback, This ...   \n",
              "20804                    Keiser Report: Meme Wars (E995)   \n",
              "\n",
              "                        author  \\\n",
              "id                               \n",
              "20800         David Streitfeld   \n",
              "20801                      NaN   \n",
              "20802            Common Dreams   \n",
              "20803            Daniel Victor   \n",
              "20804  Truth Broadcast Network   \n",
              "\n",
              "                                                    text  \n",
              "id                                                        \n",
              "20800  PALO ALTO, Calif.  —   After years of scorning...  \n",
              "20801  Russian warships ready to strike terrorists ne...  \n",
              "20802  Videos #NoDAPL: Native American Leaders Vow to...  \n",
              "20803  If at first you don’t succeed, try a different...  \n",
              "20804  42 mins ago 1 Views 0 Comments 0 Likes 'For th...  "
            ],
            "text/html": [
              "\n",
              "  <div id=\"df-de694cc3-813b-46de-9baa-5aa8017665ec\">\n",
              "    <div class=\"colab-df-container\">\n",
              "      <div>\n",
              "<style scoped>\n",
              "    .dataframe tbody tr th:only-of-type {\n",
              "        vertical-align: middle;\n",
              "    }\n",
              "\n",
              "    .dataframe tbody tr th {\n",
              "        vertical-align: top;\n",
              "    }\n",
              "\n",
              "    .dataframe thead th {\n",
              "        text-align: right;\n",
              "    }\n",
              "</style>\n",
              "<table border=\"1\" class=\"dataframe\">\n",
              "  <thead>\n",
              "    <tr style=\"text-align: right;\">\n",
              "      <th></th>\n",
              "      <th>title</th>\n",
              "      <th>author</th>\n",
              "      <th>text</th>\n",
              "    </tr>\n",
              "    <tr>\n",
              "      <th>id</th>\n",
              "      <th></th>\n",
              "      <th></th>\n",
              "      <th></th>\n",
              "    </tr>\n",
              "  </thead>\n",
              "  <tbody>\n",
              "    <tr>\n",
              "      <th>20800</th>\n",
              "      <td>Specter of Trump Loosens Tongues, if Not Purse...</td>\n",
              "      <td>David Streitfeld</td>\n",
              "      <td>PALO ALTO, Calif.  —   After years of scorning...</td>\n",
              "    </tr>\n",
              "    <tr>\n",
              "      <th>20801</th>\n",
              "      <td>Russian warships ready to strike terrorists ne...</td>\n",
              "      <td>NaN</td>\n",
              "      <td>Russian warships ready to strike terrorists ne...</td>\n",
              "    </tr>\n",
              "    <tr>\n",
              "      <th>20802</th>\n",
              "      <td>#NoDAPL: Native American Leaders Vow to Stay A...</td>\n",
              "      <td>Common Dreams</td>\n",
              "      <td>Videos #NoDAPL: Native American Leaders Vow to...</td>\n",
              "    </tr>\n",
              "    <tr>\n",
              "      <th>20803</th>\n",
              "      <td>Tim Tebow Will Attempt Another Comeback, This ...</td>\n",
              "      <td>Daniel Victor</td>\n",
              "      <td>If at first you don’t succeed, try a different...</td>\n",
              "    </tr>\n",
              "    <tr>\n",
              "      <th>20804</th>\n",
              "      <td>Keiser Report: Meme Wars (E995)</td>\n",
              "      <td>Truth Broadcast Network</td>\n",
              "      <td>42 mins ago 1 Views 0 Comments 0 Likes 'For th...</td>\n",
              "    </tr>\n",
              "  </tbody>\n",
              "</table>\n",
              "</div>\n",
              "      <button class=\"colab-df-convert\" onclick=\"convertToInteractive('df-de694cc3-813b-46de-9baa-5aa8017665ec')\"\n",
              "              title=\"Convert this dataframe to an interactive table.\"\n",
              "              style=\"display:none;\">\n",
              "        \n",
              "  <svg xmlns=\"http://www.w3.org/2000/svg\" height=\"24px\"viewBox=\"0 0 24 24\"\n",
              "       width=\"24px\">\n",
              "    <path d=\"M0 0h24v24H0V0z\" fill=\"none\"/>\n",
              "    <path d=\"M18.56 5.44l.94 2.06.94-2.06 2.06-.94-2.06-.94-.94-2.06-.94 2.06-2.06.94zm-11 1L8.5 8.5l.94-2.06 2.06-.94-2.06-.94L8.5 2.5l-.94 2.06-2.06.94zm10 10l.94 2.06.94-2.06 2.06-.94-2.06-.94-.94-2.06-.94 2.06-2.06.94z\"/><path d=\"M17.41 7.96l-1.37-1.37c-.4-.4-.92-.59-1.43-.59-.52 0-1.04.2-1.43.59L10.3 9.45l-7.72 7.72c-.78.78-.78 2.05 0 2.83L4 21.41c.39.39.9.59 1.41.59.51 0 1.02-.2 1.41-.59l7.78-7.78 2.81-2.81c.8-.78.8-2.07 0-2.86zM5.41 20L4 18.59l7.72-7.72 1.47 1.35L5.41 20z\"/>\n",
              "  </svg>\n",
              "      </button>\n",
              "      \n",
              "  <style>\n",
              "    .colab-df-container {\n",
              "      display:flex;\n",
              "      flex-wrap:wrap;\n",
              "      gap: 12px;\n",
              "    }\n",
              "\n",
              "    .colab-df-convert {\n",
              "      background-color: #E8F0FE;\n",
              "      border: none;\n",
              "      border-radius: 50%;\n",
              "      cursor: pointer;\n",
              "      display: none;\n",
              "      fill: #1967D2;\n",
              "      height: 32px;\n",
              "      padding: 0 0 0 0;\n",
              "      width: 32px;\n",
              "    }\n",
              "\n",
              "    .colab-df-convert:hover {\n",
              "      background-color: #E2EBFA;\n",
              "      box-shadow: 0px 1px 2px rgba(60, 64, 67, 0.3), 0px 1px 3px 1px rgba(60, 64, 67, 0.15);\n",
              "      fill: #174EA6;\n",
              "    }\n",
              "\n",
              "    [theme=dark] .colab-df-convert {\n",
              "      background-color: #3B4455;\n",
              "      fill: #D2E3FC;\n",
              "    }\n",
              "\n",
              "    [theme=dark] .colab-df-convert:hover {\n",
              "      background-color: #434B5C;\n",
              "      box-shadow: 0px 1px 3px 1px rgba(0, 0, 0, 0.15);\n",
              "      filter: drop-shadow(0px 1px 2px rgba(0, 0, 0, 0.3));\n",
              "      fill: #FFFFFF;\n",
              "    }\n",
              "  </style>\n",
              "\n",
              "      <script>\n",
              "        const buttonEl =\n",
              "          document.querySelector('#df-de694cc3-813b-46de-9baa-5aa8017665ec button.colab-df-convert');\n",
              "        buttonEl.style.display =\n",
              "          google.colab.kernel.accessAllowed ? 'block' : 'none';\n",
              "\n",
              "        async function convertToInteractive(key) {\n",
              "          const element = document.querySelector('#df-de694cc3-813b-46de-9baa-5aa8017665ec');\n",
              "          const dataTable =\n",
              "            await google.colab.kernel.invokeFunction('convertToInteractive',\n",
              "                                                     [key], {});\n",
              "          if (!dataTable) return;\n",
              "\n",
              "          const docLinkHtml = 'Like what you see? Visit the ' +\n",
              "            '<a target=\"_blank\" href=https://colab.research.google.com/notebooks/data_table.ipynb>data table notebook</a>'\n",
              "            + ' to learn more about interactive tables.';\n",
              "          element.innerHTML = '';\n",
              "          dataTable['output_type'] = 'display_data';\n",
              "          await google.colab.output.renderOutput(dataTable, element);\n",
              "          const docLink = document.createElement('div');\n",
              "          docLink.innerHTML = docLinkHtml;\n",
              "          element.appendChild(docLink);\n",
              "        }\n",
              "      </script>\n",
              "    </div>\n",
              "  </div>\n",
              "  "
            ]
          },
          "metadata": {},
          "execution_count": 14
        }
      ]
    },
    {
      "cell_type": "code",
      "source": [
        "train_df.head()"
      ],
      "metadata": {
        "colab": {
          "base_uri": "https://localhost:8080/",
          "height": 237
        },
        "id": "o7dFEgVaYH60",
        "outputId": "fd3a2652-aff2-4475-c572-f80fb7a04111"
      },
      "execution_count": 15,
      "outputs": [
        {
          "output_type": "execute_result",
          "data": {
            "text/plain": [
              "                                                title              author  \\\n",
              "id                                                                          \n",
              "0   House Dem Aide: We Didn’t Even See Comey’s Let...       Darrell Lucus   \n",
              "1   FLYNN: Hillary Clinton, Big Woman on Campus - ...     Daniel J. Flynn   \n",
              "2                   Why the Truth Might Get You Fired  Consortiumnews.com   \n",
              "3   15 Civilians Killed In Single US Airstrike Hav...     Jessica Purkiss   \n",
              "4   Iranian woman jailed for fictional unpublished...      Howard Portnoy   \n",
              "\n",
              "                                                 text  label  \n",
              "id                                                            \n",
              "0   House Dem Aide: We Didn’t Even See Comey’s Let...      1  \n",
              "1   Ever get the feeling your life circles the rou...      0  \n",
              "2   Why the Truth Might Get You Fired October 29, ...      1  \n",
              "3   Videos 15 Civilians Killed In Single US Airstr...      1  \n",
              "4   Print \\nAn Iranian woman has been sentenced to...      1  "
            ],
            "text/html": [
              "\n",
              "  <div id=\"df-feb39309-7513-43a5-98e6-dd8af4eb3238\">\n",
              "    <div class=\"colab-df-container\">\n",
              "      <div>\n",
              "<style scoped>\n",
              "    .dataframe tbody tr th:only-of-type {\n",
              "        vertical-align: middle;\n",
              "    }\n",
              "\n",
              "    .dataframe tbody tr th {\n",
              "        vertical-align: top;\n",
              "    }\n",
              "\n",
              "    .dataframe thead th {\n",
              "        text-align: right;\n",
              "    }\n",
              "</style>\n",
              "<table border=\"1\" class=\"dataframe\">\n",
              "  <thead>\n",
              "    <tr style=\"text-align: right;\">\n",
              "      <th></th>\n",
              "      <th>title</th>\n",
              "      <th>author</th>\n",
              "      <th>text</th>\n",
              "      <th>label</th>\n",
              "    </tr>\n",
              "    <tr>\n",
              "      <th>id</th>\n",
              "      <th></th>\n",
              "      <th></th>\n",
              "      <th></th>\n",
              "      <th></th>\n",
              "    </tr>\n",
              "  </thead>\n",
              "  <tbody>\n",
              "    <tr>\n",
              "      <th>0</th>\n",
              "      <td>House Dem Aide: We Didn’t Even See Comey’s Let...</td>\n",
              "      <td>Darrell Lucus</td>\n",
              "      <td>House Dem Aide: We Didn’t Even See Comey’s Let...</td>\n",
              "      <td>1</td>\n",
              "    </tr>\n",
              "    <tr>\n",
              "      <th>1</th>\n",
              "      <td>FLYNN: Hillary Clinton, Big Woman on Campus - ...</td>\n",
              "      <td>Daniel J. Flynn</td>\n",
              "      <td>Ever get the feeling your life circles the rou...</td>\n",
              "      <td>0</td>\n",
              "    </tr>\n",
              "    <tr>\n",
              "      <th>2</th>\n",
              "      <td>Why the Truth Might Get You Fired</td>\n",
              "      <td>Consortiumnews.com</td>\n",
              "      <td>Why the Truth Might Get You Fired October 29, ...</td>\n",
              "      <td>1</td>\n",
              "    </tr>\n",
              "    <tr>\n",
              "      <th>3</th>\n",
              "      <td>15 Civilians Killed In Single US Airstrike Hav...</td>\n",
              "      <td>Jessica Purkiss</td>\n",
              "      <td>Videos 15 Civilians Killed In Single US Airstr...</td>\n",
              "      <td>1</td>\n",
              "    </tr>\n",
              "    <tr>\n",
              "      <th>4</th>\n",
              "      <td>Iranian woman jailed for fictional unpublished...</td>\n",
              "      <td>Howard Portnoy</td>\n",
              "      <td>Print \\nAn Iranian woman has been sentenced to...</td>\n",
              "      <td>1</td>\n",
              "    </tr>\n",
              "  </tbody>\n",
              "</table>\n",
              "</div>\n",
              "      <button class=\"colab-df-convert\" onclick=\"convertToInteractive('df-feb39309-7513-43a5-98e6-dd8af4eb3238')\"\n",
              "              title=\"Convert this dataframe to an interactive table.\"\n",
              "              style=\"display:none;\">\n",
              "        \n",
              "  <svg xmlns=\"http://www.w3.org/2000/svg\" height=\"24px\"viewBox=\"0 0 24 24\"\n",
              "       width=\"24px\">\n",
              "    <path d=\"M0 0h24v24H0V0z\" fill=\"none\"/>\n",
              "    <path d=\"M18.56 5.44l.94 2.06.94-2.06 2.06-.94-2.06-.94-.94-2.06-.94 2.06-2.06.94zm-11 1L8.5 8.5l.94-2.06 2.06-.94-2.06-.94L8.5 2.5l-.94 2.06-2.06.94zm10 10l.94 2.06.94-2.06 2.06-.94-2.06-.94-.94-2.06-.94 2.06-2.06.94z\"/><path d=\"M17.41 7.96l-1.37-1.37c-.4-.4-.92-.59-1.43-.59-.52 0-1.04.2-1.43.59L10.3 9.45l-7.72 7.72c-.78.78-.78 2.05 0 2.83L4 21.41c.39.39.9.59 1.41.59.51 0 1.02-.2 1.41-.59l7.78-7.78 2.81-2.81c.8-.78.8-2.07 0-2.86zM5.41 20L4 18.59l7.72-7.72 1.47 1.35L5.41 20z\"/>\n",
              "  </svg>\n",
              "      </button>\n",
              "      \n",
              "  <style>\n",
              "    .colab-df-container {\n",
              "      display:flex;\n",
              "      flex-wrap:wrap;\n",
              "      gap: 12px;\n",
              "    }\n",
              "\n",
              "    .colab-df-convert {\n",
              "      background-color: #E8F0FE;\n",
              "      border: none;\n",
              "      border-radius: 50%;\n",
              "      cursor: pointer;\n",
              "      display: none;\n",
              "      fill: #1967D2;\n",
              "      height: 32px;\n",
              "      padding: 0 0 0 0;\n",
              "      width: 32px;\n",
              "    }\n",
              "\n",
              "    .colab-df-convert:hover {\n",
              "      background-color: #E2EBFA;\n",
              "      box-shadow: 0px 1px 2px rgba(60, 64, 67, 0.3), 0px 1px 3px 1px rgba(60, 64, 67, 0.15);\n",
              "      fill: #174EA6;\n",
              "    }\n",
              "\n",
              "    [theme=dark] .colab-df-convert {\n",
              "      background-color: #3B4455;\n",
              "      fill: #D2E3FC;\n",
              "    }\n",
              "\n",
              "    [theme=dark] .colab-df-convert:hover {\n",
              "      background-color: #434B5C;\n",
              "      box-shadow: 0px 1px 3px 1px rgba(0, 0, 0, 0.15);\n",
              "      filter: drop-shadow(0px 1px 2px rgba(0, 0, 0, 0.3));\n",
              "      fill: #FFFFFF;\n",
              "    }\n",
              "  </style>\n",
              "\n",
              "      <script>\n",
              "        const buttonEl =\n",
              "          document.querySelector('#df-feb39309-7513-43a5-98e6-dd8af4eb3238 button.colab-df-convert');\n",
              "        buttonEl.style.display =\n",
              "          google.colab.kernel.accessAllowed ? 'block' : 'none';\n",
              "\n",
              "        async function convertToInteractive(key) {\n",
              "          const element = document.querySelector('#df-feb39309-7513-43a5-98e6-dd8af4eb3238');\n",
              "          const dataTable =\n",
              "            await google.colab.kernel.invokeFunction('convertToInteractive',\n",
              "                                                     [key], {});\n",
              "          if (!dataTable) return;\n",
              "\n",
              "          const docLinkHtml = 'Like what you see? Visit the ' +\n",
              "            '<a target=\"_blank\" href=https://colab.research.google.com/notebooks/data_table.ipynb>data table notebook</a>'\n",
              "            + ' to learn more about interactive tables.';\n",
              "          element.innerHTML = '';\n",
              "          dataTable['output_type'] = 'display_data';\n",
              "          await google.colab.output.renderOutput(dataTable, element);\n",
              "          const docLink = document.createElement('div');\n",
              "          docLink.innerHTML = docLinkHtml;\n",
              "          element.appendChild(docLink);\n",
              "        }\n",
              "      </script>\n",
              "    </div>\n",
              "  </div>\n",
              "  "
            ]
          },
          "metadata": {},
          "execution_count": 15
        }
      ]
    },
    {
      "cell_type": "code",
      "source": [
        "train_df.iloc[0]"
      ],
      "metadata": {
        "colab": {
          "base_uri": "https://localhost:8080/"
        },
        "id": "L4YKNDJ4YOj_",
        "outputId": "fcf7bc1c-f70e-4a14-b9ea-7925d5919d43"
      },
      "execution_count": 49,
      "outputs": [
        {
          "output_type": "execute_result",
          "data": {
            "text/plain": [
              "title     House Dem Aide: We Didn’t Even See Comey’s Let...\n",
              "author                                        Darrell Lucus\n",
              "text      House Dem Aide: We Didn’t Even See Comey’s Let...\n",
              "label                                                     1\n",
              "Name: 0, dtype: object"
            ]
          },
          "metadata": {},
          "execution_count": 49
        }
      ]
    },
    {
      "cell_type": "code",
      "source": [
        "train_df.isna().sum()"
      ],
      "metadata": {
        "colab": {
          "base_uri": "https://localhost:8080/"
        },
        "id": "y8sdF7D7gq2t",
        "outputId": "6d09d166-128f-4d15-8466-d1d72eb223e7"
      },
      "execution_count": 51,
      "outputs": [
        {
          "output_type": "execute_result",
          "data": {
            "text/plain": [
              "title      558\n",
              "author    1957\n",
              "text        39\n",
              "label        0\n",
              "dtype: int64"
            ]
          },
          "metadata": {},
          "execution_count": 51
        }
      ]
    },
    {
      "cell_type": "code",
      "source": [
        "import nltk"
      ],
      "metadata": {
        "id": "miHHTJzWYz9_"
      },
      "execution_count": 19,
      "outputs": []
    },
    {
      "cell_type": "code",
      "source": [
        "from nltk.corpus import stopwords\n",
        "from nltk.tokenize import word_tokenize\n",
        "nltk.download('punkt')"
      ],
      "metadata": {
        "colab": {
          "base_uri": "https://localhost:8080/"
        },
        "id": "5N-sJee6ZHRH",
        "outputId": "d7e5c9c4-bb0a-48ba-98fd-fb313d649aaa"
      },
      "execution_count": 72,
      "outputs": [
        {
          "output_type": "stream",
          "name": "stderr",
          "text": [
            "[nltk_data] Downloading package punkt to /root/nltk_data...\n",
            "[nltk_data]   Unzipping tokenizers/punkt.zip.\n"
          ]
        },
        {
          "output_type": "execute_result",
          "data": {
            "text/plain": [
              "True"
            ]
          },
          "metadata": {},
          "execution_count": 72
        }
      ]
    },
    {
      "cell_type": "code",
      "source": [
        "nltk.download('stopwords')\n",
        "stop_words = stopwords.words('english')\n",
        "# stop_words"
      ],
      "metadata": {
        "colab": {
          "base_uri": "https://localhost:8080/"
        },
        "id": "uFBckucMZNXc",
        "outputId": "08f1e450-c400-4b31-872b-1f20b7724dae"
      },
      "execution_count": 85,
      "outputs": [
        {
          "output_type": "stream",
          "name": "stderr",
          "text": [
            "[nltk_data] Downloading package stopwords to /root/nltk_data...\n",
            "[nltk_data]   Package stopwords is already up-to-date!\n"
          ]
        }
      ]
    },
    {
      "cell_type": "code",
      "source": [
        "new_text = ''\n",
        "t = []\n",
        "for i in train_df['text']:\n",
        "  t.append(i)\n",
        "# print()\n",
        "len(t[1])"
      ],
      "metadata": {
        "colab": {
          "base_uri": "https://localhost:8080/"
        },
        "id": "VahZmIBNcqtM",
        "outputId": "2bf7ecd9-2fe1-4e9d-8c11-9e7496eeac25"
      },
      "execution_count": 86,
      "outputs": [
        {
          "output_type": "execute_result",
          "data": {
            "text/plain": [
              "4160"
            ]
          },
          "metadata": {},
          "execution_count": 86
        }
      ]
    },
    {
      "cell_type": "code",
      "source": [
        "\n",
        "# slist = []\n",
        "# for words in stop_words:\n",
        "#   print(words)\n",
        "#   for text in t:\n",
        "#     tokens = word_tokenize(text)\n",
        "#     print(tokens)\n",
        "# # tokens\n",
        "# # slist\n",
        "# # t[0]\n",
        "\n",
        "text = t[1]\n",
        "# text\n",
        "tokens = word_tokenize(text)\n",
        "print(tokens)\n",
        "for word in stop_words:\n",
        "  for token in tokens:\n",
        "    if token == word:\n",
        "      tokens.remove(token)\n",
        "\n",
        "print(tokens)\n",
        "\n",
        "string = ''\n",
        "for word in tokens:\n",
        "  string+=word + ' '\n",
        "print(string)"
      ],
      "metadata": {
        "colab": {
          "base_uri": "https://localhost:8080/"
        },
        "id": "Q-zXt-U4aHxW",
        "outputId": "9132c232-433d-4978-b352-4432e35613be"
      },
      "execution_count": 92,
      "outputs": [
        {
          "output_type": "stream",
          "name": "stdout",
          "text": [
            "['Ever', 'get', 'the', 'feeling', 'your', 'life', 'circles', 'the', 'roundabout', 'rather', 'than', 'heads', 'in', 'a', 'straight', 'line', 'toward', 'the', 'intended', 'destination', '?', '[', 'Hillary', 'Clinton', 'remains', 'the', 'big', 'woman', 'on', 'campus', 'in', 'leafy', ',', 'liberal', 'Wellesley', ',', 'Massachusetts', '.', 'Everywhere', 'else', 'votes', 'her', 'most', 'likely', 'to', 'don', 'her', 'inauguration', 'dress', 'for', 'the', 'remainder', 'of', 'her', 'days', 'the', 'way', 'Miss', 'Havisham', 'forever', 'wore', 'that', 'wedding', 'dress', '.', 'Speaking', 'of', 'Great', 'Expectations', ',', 'Hillary', 'Rodham', 'overflowed', 'with', 'them', '48', 'years', 'ago', 'when', 'she', 'first', 'addressed', 'a', 'Wellesley', 'graduating', 'class', '.', 'The', 'president', 'of', 'the', 'college', 'informed', 'those', 'gathered', 'in', '1969', 'that', 'the', 'students', 'needed', '“', 'no', 'debate', 'so', 'far', 'as', 'I', 'could', 'ascertain', 'as', 'to', 'who', 'their', 'spokesman', 'was', 'to', 'be', '”', '(', 'kind', 'of', 'the', 'like', 'the', 'Democratic', 'primaries', 'in', '2016', 'minus', 'the', 'terms', 'unknown', 'then', 'even', 'at', 'a', 'Seven', 'Sisters', 'school', ')', '.', '“', 'I', 'am', 'very', 'glad', 'that', 'Miss', 'Adams', 'made', 'it', 'clear', 'that', 'what', 'I', 'am', 'speaking', 'for', 'today', 'is', 'all', 'of', 'us', '—', 'the', '400', 'of', 'us', ',', '”', 'Miss', 'Rodham', 'told', 'her', 'classmates', '.', 'After', 'appointing', 'herself', 'Edger', 'Bergen', 'to', 'the', 'Charlie', 'McCarthys', 'and', 'Mortimer', 'Snerds', 'in', 'attendance', ',', 'the', 'bespectacled', 'in', 'granny', 'glasses', '(', 'awarding', 'her', 'matronly', 'wisdom', '—', 'or', 'at', 'least', 'John', 'Lennon', 'wisdom', ')', 'took', 'issue', 'with', 'the', 'previous', 'speaker', '.', 'Despite', 'becoming', 'the', 'first', 'to', 'win', 'election', 'to', 'a', 'seat', 'in', 'the', 'U.', 'S.', 'Senate', 'since', 'Reconstruction', ',', 'Edward', 'Brooke', 'came', 'in', 'for', 'criticism', 'for', 'calling', 'for', '“', 'empathy', '”', 'for', 'the', 'goals', 'of', 'protestors', 'as', 'he', 'criticized', 'tactics', '.', 'Though', 'Clinton', 'in', 'her', 'senior', 'thesis', 'on', 'Saul', 'Alinsky', 'lamented', '“', 'Black', 'Power', 'demagogues', '”', 'and', '“', 'elitist', 'arrogance', 'and', 'repressive', 'intolerance', '”', 'within', 'the', 'New', 'Left', ',', 'similar', 'words', 'coming', 'out', 'of', 'a', 'Republican', 'necessitated', 'a', 'brief', 'rebuttal', '.', '“', 'Trust', ',', '”', 'Rodham', 'ironically', 'observed', 'in', '1969', ',', '“', 'this', 'is', 'one', 'word', 'that', 'when', 'I', 'asked', 'the', 'class', 'at', 'our', 'rehearsal', 'what', 'it', 'was', 'they', 'wanted', 'me', 'to', 'say', 'for', 'them', ',', 'everyone', 'came', 'up', 'to', 'me', 'and', 'said', '‘', 'Talk', 'about', 'trust', ',', 'talk', 'about', 'the', 'lack', 'of', 'trust', 'both', 'for', 'us', 'and', 'the', 'way', 'we', 'feel', 'about', 'others', '.', 'Talk', 'about', 'the', 'trust', 'bust.', '’', 'What', 'can', 'you', 'say', 'about', 'it', '?', 'What', 'can', 'you', 'say', 'about', 'a', 'feeling', 'that', 'permeates', 'a', 'generation', 'and', 'that', 'perhaps', 'is', 'not', 'even', 'understood', 'by', 'those', 'who', 'are', 'distrusted', '?', '”', 'The', '“', 'trust', 'bust', '”', 'certainly', 'busted', 'Clinton', '’', 's', '2016', 'plans', '.', 'She', 'certainly', 'did', 'not', 'even', 'understand', 'that', 'people', 'distrusted', 'her', '.', 'After', 'Whitewater', ',', 'Travelgate', ',', 'the', 'vast', 'conspiracy', ',', 'Benghazi', ',', 'and', 'the', 'missing', 'emails', ',', 'Clinton', 'found', 'herself', 'the', 'distrusted', 'voice', 'on', 'Friday', '.', 'There', 'was', 'a', 'load', 'of', 'compromising', 'on', 'the', 'road', 'to', 'the', 'broadening', 'of', 'her', 'political', 'horizons', '.', 'And', 'distrust', 'from', 'the', 'American', 'people', '—', 'Trump', 'edged', 'her', '48', 'percent', 'to', '38', 'percent', 'on', 'the', 'question', 'immediately', 'prior', 'to', 'November', '’', 's', 'election', '—', 'stood', 'as', 'a', 'major', 'reason', 'for', 'the', 'closing', 'of', 'those', 'horizons', '.', 'Clinton', 'described', 'her', 'vanquisher', 'and', 'his', 'supporters', 'as', 'embracing', 'a', '“', 'lie', ',', '”', 'a', '“', 'con', ',', '”', '“', 'alternative', 'facts', ',', '”', 'and', '“', 'a', 'assault', 'on', 'truth', 'and', 'reason', '.', '”', 'She', 'failed', 'to', 'explain', 'why', 'the', 'American', 'people', 'chose', 'his', 'lies', 'over', 'her', 'truth', '.', '“', 'As', 'the', 'history', 'majors', 'among', 'you', 'here', 'today', 'know', 'all', 'too', 'well', ',', 'when', 'people', 'in', 'power', 'invent', 'their', 'own', 'facts', 'and', 'attack', 'those', 'who', 'question', 'them', ',', 'it', 'can', 'mark', 'the', 'beginning', 'of', 'the', 'end', 'of', 'a', 'free', 'society', ',', '”', 'she', 'offered', '.', '“', 'That', 'is', 'not', 'hyperbole', '.', '”', 'Like', 'so', 'many', 'people', 'to', 'emerge', 'from', 'the', '1960s', ',', 'Hillary', 'Clinton', 'embarked', 'upon', 'a', 'long', ',', 'strange', 'trip', '.', 'From', 'high', 'school', 'Goldwater', 'Girl', 'and', 'Wellesley', 'College', 'Republican', 'president', 'to', 'Democratic', 'politician', ',', 'Clinton', 'drank', 'in', 'the', 'times', 'and', 'the', 'place', 'that', 'gave', 'her', 'a', 'degree', '.', 'More', 'significantly', ',', 'she', 'went', 'from', 'idealist', 'to', 'cynic', ',', 'as', 'a', 'comparison', 'of', 'her', 'two', 'Wellesley', 'commencement', 'addresses', 'show', '.', 'Way', 'back', 'when', ',', 'she', 'lamented', 'that', '“', 'for', 'too', 'long', 'our', 'leaders', 'have', 'viewed', 'politics', 'as', 'the', 'art', 'of', 'the', 'possible', ',', 'and', 'the', 'challenge', 'now', 'is', 'to', 'practice', 'politics', 'as', 'the', 'art', 'of', 'making', 'what', 'appears', 'to', 'be', 'impossible', 'possible', '.', '”', 'Now', ',', 'as', 'the', 'big', 'woman', 'on', 'campus', 'but', 'the', 'odd', 'woman', 'out', 'of', 'the', 'White', 'House', ',', 'she', 'wonders', 'how', 'her', 'current', 'station', 'is', 'even', 'possible', '.', '“', 'Why', 'aren', '’', 't', 'I', '50', 'points', 'ahead', '?', '”', 'she', 'asked', 'in', 'September', '.', 'In', 'May', 'she', 'asks', 'why', 'she', 'isn', '’', 't', 'president', '.', 'The', 'woman', 'famously', 'dubbed', 'a', '“', 'congenital', 'liar', '”', 'by', 'Bill', 'Safire', 'concludes', 'that', 'lies', 'did', 'her', 'in', '—', 'theirs', ',', 'mind', 'you', ',', 'not', 'hers', '.', 'Getting', 'stood', 'up', 'on', 'Election', 'Day', ',', 'like', 'finding', 'yourself', 'the', 'jilted', 'bride', 'on', 'your', 'wedding', 'day', ',', 'inspires', 'dangerous', 'delusions', '.']\n",
            "['Ever', 'get', 'feeling', 'life', 'circles', 'roundabout', 'rather', 'heads', 'straight', 'line', 'toward', 'intended', 'destination', '?', '[', 'Hillary', 'Clinton', 'remains', 'big', 'woman', 'campus', 'leafy', ',', 'liberal', 'Wellesley', ',', 'Massachusetts', '.', 'Everywhere', 'else', 'votes', 'likely', 'inauguration', 'dress', 'remainder', 'days', 'way', 'Miss', 'Havisham', 'forever', 'wore', 'wedding', 'dress', '.', 'Speaking', 'Great', 'Expectations', ',', 'Hillary', 'Rodham', 'overflowed', '48', 'years', 'ago', 'first', 'addressed', 'Wellesley', 'graduating', 'class', '.', 'The', 'president', 'college', 'informed', 'gathered', '1969', 'students', 'needed', '“', 'debate', 'far', 'I', 'could', 'ascertain', 'spokesman', '”', '(', 'kind', 'like', 'Democratic', 'primaries', '2016', 'minus', 'terms', 'unknown', 'even', 'Seven', 'Sisters', 'school', ')', '.', '“', 'I', 'glad', 'Miss', 'Adams', 'made', 'clear', 'I', 'speaking', 'today', 'us', '—', '400', 'us', ',', '”', 'Miss', 'Rodham', 'told', 'classmates', '.', 'After', 'appointing', 'Edger', 'Bergen', 'Charlie', 'McCarthys', 'Mortimer', 'Snerds', 'attendance', ',', 'bespectacled', 'granny', 'glasses', '(', 'awarding', 'matronly', 'wisdom', '—', 'least', 'John', 'Lennon', 'wisdom', ')', 'took', 'issue', 'previous', 'speaker', '.', 'Despite', 'becoming', 'first', 'win', 'election', 'seat', 'U.', 'S.', 'Senate', 'since', 'Reconstruction', ',', 'Edward', 'Brooke', 'came', 'criticism', 'calling', '“', 'empathy', '”', 'goals', 'protestors', 'criticized', 'tactics', '.', 'Though', 'Clinton', 'senior', 'thesis', 'Saul', 'Alinsky', 'lamented', '“', 'Black', 'Power', 'demagogues', '”', '“', 'elitist', 'arrogance', 'repressive', 'intolerance', '”', 'within', 'New', 'Left', ',', 'similar', 'words', 'coming', 'Republican', 'necessitated', 'brief', 'rebuttal', '.', '“', 'Trust', ',', '”', 'Rodham', 'ironically', 'observed', '1969', ',', '“', 'one', 'word', 'I', 'asked', 'class', 'rehearsal', 'wanted', 'say', ',', 'everyone', 'came', 'said', '‘', 'Talk', 'trust', ',', 'talk', 'lack', 'trust', 'us', 'way', 'feel', 'others', '.', 'Talk', 'trust', 'bust.', '’', 'What', 'say', '?', 'What', 'say', 'feeling', 'permeates', 'generation', 'perhaps', 'even', 'understood', 'distrusted', '?', '”', 'The', '“', 'trust', 'bust', '”', 'certainly', 'busted', 'Clinton', '’', '2016', 'plans', '.', 'She', 'certainly', 'even', 'understand', 'people', 'distrusted', '.', 'After', 'Whitewater', ',', 'Travelgate', ',', 'vast', 'conspiracy', ',', 'Benghazi', ',', 'missing', 'emails', ',', 'Clinton', 'found', 'distrusted', 'voice', 'Friday', '.', 'There', 'load', 'compromising', 'road', 'broadening', 'political', 'horizons', '.', 'And', 'distrust', 'American', 'people', '—', 'Trump', 'edged', '48', 'percent', '38', 'percent', 'question', 'immediately', 'prior', 'November', '’', 'election', '—', 'stood', 'major', 'reason', 'closing', 'horizons', '.', 'Clinton', 'described', 'vanquisher', 'supporters', 'embracing', '“', 'lie', ',', '”', '“', 'con', ',', '”', '“', 'alternative', 'facts', ',', '”', '“', 'assault', 'truth', 'reason', '.', '”', 'She', 'failed', 'explain', 'American', 'people', 'chose', 'lies', 'truth', '.', '“', 'As', 'history', 'majors', 'among', 'today', 'know', 'well', ',', 'people', 'power', 'invent', 'facts', 'attack', 'question', ',', 'mark', 'beginning', 'end', 'free', 'society', ',', '”', 'offered', '.', '“', 'That', 'hyperbole', '.', '”', 'Like', 'many', 'people', 'emerge', '1960s', ',', 'Hillary', 'Clinton', 'embarked', 'upon', 'long', ',', 'strange', 'trip', '.', 'From', 'high', 'school', 'Goldwater', 'Girl', 'Wellesley', 'College', 'Republican', 'president', 'Democratic', 'politician', ',', 'Clinton', 'drank', 'times', 'place', 'gave', 'degree', '.', 'More', 'significantly', ',', 'went', 'idealist', 'cynic', ',', 'comparison', 'two', 'Wellesley', 'commencement', 'addresses', 'show', '.', 'Way', 'back', ',', 'lamented', '“', 'long', 'leaders', 'viewed', 'politics', 'art', 'possible', ',', 'challenge', 'practice', 'politics', 'art', 'making', 'appears', 'impossible', 'possible', '.', '”', 'Now', ',', 'big', 'woman', 'campus', 'odd', 'woman', 'White', 'House', ',', 'wonders', 'current', 'station', 'even', 'possible', '.', '“', 'Why', '’', 'I', '50', 'points', 'ahead', '?', '”', 'asked', 'September', '.', 'In', 'May', 'asks', '’', 'president', '.', 'The', 'woman', 'famously', 'dubbed', '“', 'congenital', 'liar', '”', 'Bill', 'Safire', 'concludes', 'lies', '—', ',', 'mind', ',', '.', 'Getting', 'stood', 'Election', 'Day', ',', 'like', 'finding', 'jilted', 'bride', 'wedding', 'day', ',', 'inspires', 'dangerous', 'delusions', '.']\n",
            "Ever get feeling life circles roundabout rather heads straight line toward intended destination ? [ Hillary Clinton remains big woman campus leafy , liberal Wellesley , Massachusetts . Everywhere else votes likely inauguration dress remainder days way Miss Havisham forever wore wedding dress . Speaking Great Expectations , Hillary Rodham overflowed 48 years ago first addressed Wellesley graduating class . The president college informed gathered 1969 students needed “ debate far I could ascertain spokesman ” ( kind like Democratic primaries 2016 minus terms unknown even Seven Sisters school ) . “ I glad Miss Adams made clear I speaking today us — 400 us , ” Miss Rodham told classmates . After appointing Edger Bergen Charlie McCarthys Mortimer Snerds attendance , bespectacled granny glasses ( awarding matronly wisdom — least John Lennon wisdom ) took issue previous speaker . Despite becoming first win election seat U. S. Senate since Reconstruction , Edward Brooke came criticism calling “ empathy ” goals protestors criticized tactics . Though Clinton senior thesis Saul Alinsky lamented “ Black Power demagogues ” “ elitist arrogance repressive intolerance ” within New Left , similar words coming Republican necessitated brief rebuttal . “ Trust , ” Rodham ironically observed 1969 , “ one word I asked class rehearsal wanted say , everyone came said ‘ Talk trust , talk lack trust us way feel others . Talk trust bust. ’ What say ? What say feeling permeates generation perhaps even understood distrusted ? ” The “ trust bust ” certainly busted Clinton ’ 2016 plans . She certainly even understand people distrusted . After Whitewater , Travelgate , vast conspiracy , Benghazi , missing emails , Clinton found distrusted voice Friday . There load compromising road broadening political horizons . And distrust American people — Trump edged 48 percent 38 percent question immediately prior November ’ election — stood major reason closing horizons . Clinton described vanquisher supporters embracing “ lie , ” “ con , ” “ alternative facts , ” “ assault truth reason . ” She failed explain American people chose lies truth . “ As history majors among today know well , people power invent facts attack question , mark beginning end free society , ” offered . “ That hyperbole . ” Like many people emerge 1960s , Hillary Clinton embarked upon long , strange trip . From high school Goldwater Girl Wellesley College Republican president Democratic politician , Clinton drank times place gave degree . More significantly , went idealist cynic , comparison two Wellesley commencement addresses show . Way back , lamented “ long leaders viewed politics art possible , challenge practice politics art making appears impossible possible . ” Now , big woman campus odd woman White House , wonders current station even possible . “ Why ’ I 50 points ahead ? ” asked September . In May asks ’ president . The woman famously dubbed “ congenital liar ” Bill Safire concludes lies — , mind , . Getting stood Election Day , like finding jilted bride wedding day , inspires dangerous delusions . \n"
          ]
        }
      ]
    },
    {
      "cell_type": "code",
      "source": [],
      "metadata": {
        "id": "RRWfOgDgf_am"
      },
      "execution_count": null,
      "outputs": []
    }
  ]
}