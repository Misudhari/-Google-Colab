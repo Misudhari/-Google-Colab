{
  "nbformat": 4,
  "nbformat_minor": 0,
  "metadata": {
    "colab": {
      "provenance": [],
      "authorship_tag": "ABX9TyNkchVGC44iqtkjPT5D166c",
      "include_colab_link": true
    },
    "kernelspec": {
      "name": "python3",
      "display_name": "Python 3"
    },
    "language_info": {
      "name": "python"
    }
  },
  "cells": [
    {
      "cell_type": "markdown",
      "metadata": {
        "id": "view-in-github",
        "colab_type": "text"
      },
      "source": [
        "<a href=\"https://colab.research.google.com/github/Misudhari/Deep-Learning-Lab/blob/main/quikr_car.ipynb\" target=\"_parent\"><img src=\"https://colab.research.google.com/assets/colab-badge.svg\" alt=\"Open In Colab\"/></a>"
      ]
    },
    {
      "cell_type": "code",
      "source": [
        "from google.colab import drive\n",
        "drive.mount('/content/drive')"
      ],
      "metadata": {
        "colab": {
          "base_uri": "https://localhost:8080/"
        },
        "id": "fhG0B9dXWNB-",
        "outputId": "43b0932a-3baa-44ee-c7a2-051ef62a6a79"
      },
      "execution_count": 3,
      "outputs": [
        {
          "output_type": "stream",
          "name": "stdout",
          "text": [
            "Mounted at /content/drive\n"
          ]
        }
      ]
    },
    {
      "cell_type": "code",
      "source": [
        "import pandas as pd\n",
        "from matplotlib import pyplot as plt\n",
        "from sklearn.model_selection import train_test_split"
      ],
      "metadata": {
        "id": "A-mqhFM5X2Qt"
      },
      "execution_count": 2,
      "outputs": []
    },
    {
      "cell_type": "code",
      "source": [
        "data = pd.read_csv(\"/content/drive/MyDrive/Datasets/quikr_car.csv\")\n",
        "data.head()"
      ],
      "metadata": {
        "colab": {
          "base_uri": "https://localhost:8080/",
          "height": 206
        },
        "id": "i_JBC0VAVwdU",
        "outputId": "97e7d58c-1d38-40c0-f1ae-2e8334845f7a"
      },
      "execution_count": 6,
      "outputs": [
        {
          "output_type": "execute_result",
          "data": {
            "text/plain": [
              "                                     name   company  year          Price  \\\n",
              "0    Hyundai Santro Xing XO eRLX Euro III   Hyundai  2007         80,000   \n",
              "1                 Mahindra Jeep CL550 MDI  Mahindra  2006       4,25,000   \n",
              "2              Maruti Suzuki Alto 800 Vxi    Maruti  2018  Ask For Price   \n",
              "3  Hyundai Grand i10 Magna 1.2 Kappa VTVT   Hyundai  2014       3,25,000   \n",
              "4        Ford EcoSport Titanium 1.5L TDCi      Ford  2014       5,75,000   \n",
              "\n",
              "   kms_driven fuel_type  \n",
              "0  45,000 kms    Petrol  \n",
              "1      40 kms    Diesel  \n",
              "2  22,000 kms    Petrol  \n",
              "3  28,000 kms    Petrol  \n",
              "4  36,000 kms    Diesel  "
            ],
            "text/html": [
              "\n",
              "  <div id=\"df-6d54e231-9202-43cd-bfa1-680ab3ccf425\">\n",
              "    <div class=\"colab-df-container\">\n",
              "      <div>\n",
              "<style scoped>\n",
              "    .dataframe tbody tr th:only-of-type {\n",
              "        vertical-align: middle;\n",
              "    }\n",
              "\n",
              "    .dataframe tbody tr th {\n",
              "        vertical-align: top;\n",
              "    }\n",
              "\n",
              "    .dataframe thead th {\n",
              "        text-align: right;\n",
              "    }\n",
              "</style>\n",
              "<table border=\"1\" class=\"dataframe\">\n",
              "  <thead>\n",
              "    <tr style=\"text-align: right;\">\n",
              "      <th></th>\n",
              "      <th>name</th>\n",
              "      <th>company</th>\n",
              "      <th>year</th>\n",
              "      <th>Price</th>\n",
              "      <th>kms_driven</th>\n",
              "      <th>fuel_type</th>\n",
              "    </tr>\n",
              "  </thead>\n",
              "  <tbody>\n",
              "    <tr>\n",
              "      <th>0</th>\n",
              "      <td>Hyundai Santro Xing XO eRLX Euro III</td>\n",
              "      <td>Hyundai</td>\n",
              "      <td>2007</td>\n",
              "      <td>80,000</td>\n",
              "      <td>45,000 kms</td>\n",
              "      <td>Petrol</td>\n",
              "    </tr>\n",
              "    <tr>\n",
              "      <th>1</th>\n",
              "      <td>Mahindra Jeep CL550 MDI</td>\n",
              "      <td>Mahindra</td>\n",
              "      <td>2006</td>\n",
              "      <td>4,25,000</td>\n",
              "      <td>40 kms</td>\n",
              "      <td>Diesel</td>\n",
              "    </tr>\n",
              "    <tr>\n",
              "      <th>2</th>\n",
              "      <td>Maruti Suzuki Alto 800 Vxi</td>\n",
              "      <td>Maruti</td>\n",
              "      <td>2018</td>\n",
              "      <td>Ask For Price</td>\n",
              "      <td>22,000 kms</td>\n",
              "      <td>Petrol</td>\n",
              "    </tr>\n",
              "    <tr>\n",
              "      <th>3</th>\n",
              "      <td>Hyundai Grand i10 Magna 1.2 Kappa VTVT</td>\n",
              "      <td>Hyundai</td>\n",
              "      <td>2014</td>\n",
              "      <td>3,25,000</td>\n",
              "      <td>28,000 kms</td>\n",
              "      <td>Petrol</td>\n",
              "    </tr>\n",
              "    <tr>\n",
              "      <th>4</th>\n",
              "      <td>Ford EcoSport Titanium 1.5L TDCi</td>\n",
              "      <td>Ford</td>\n",
              "      <td>2014</td>\n",
              "      <td>5,75,000</td>\n",
              "      <td>36,000 kms</td>\n",
              "      <td>Diesel</td>\n",
              "    </tr>\n",
              "  </tbody>\n",
              "</table>\n",
              "</div>\n",
              "      <button class=\"colab-df-convert\" onclick=\"convertToInteractive('df-6d54e231-9202-43cd-bfa1-680ab3ccf425')\"\n",
              "              title=\"Convert this dataframe to an interactive table.\"\n",
              "              style=\"display:none;\">\n",
              "        \n",
              "  <svg xmlns=\"http://www.w3.org/2000/svg\" height=\"24px\"viewBox=\"0 0 24 24\"\n",
              "       width=\"24px\">\n",
              "    <path d=\"M0 0h24v24H0V0z\" fill=\"none\"/>\n",
              "    <path d=\"M18.56 5.44l.94 2.06.94-2.06 2.06-.94-2.06-.94-.94-2.06-.94 2.06-2.06.94zm-11 1L8.5 8.5l.94-2.06 2.06-.94-2.06-.94L8.5 2.5l-.94 2.06-2.06.94zm10 10l.94 2.06.94-2.06 2.06-.94-2.06-.94-.94-2.06-.94 2.06-2.06.94z\"/><path d=\"M17.41 7.96l-1.37-1.37c-.4-.4-.92-.59-1.43-.59-.52 0-1.04.2-1.43.59L10.3 9.45l-7.72 7.72c-.78.78-.78 2.05 0 2.83L4 21.41c.39.39.9.59 1.41.59.51 0 1.02-.2 1.41-.59l7.78-7.78 2.81-2.81c.8-.78.8-2.07 0-2.86zM5.41 20L4 18.59l7.72-7.72 1.47 1.35L5.41 20z\"/>\n",
              "  </svg>\n",
              "      </button>\n",
              "      \n",
              "  <style>\n",
              "    .colab-df-container {\n",
              "      display:flex;\n",
              "      flex-wrap:wrap;\n",
              "      gap: 12px;\n",
              "    }\n",
              "\n",
              "    .colab-df-convert {\n",
              "      background-color: #E8F0FE;\n",
              "      border: none;\n",
              "      border-radius: 50%;\n",
              "      cursor: pointer;\n",
              "      display: none;\n",
              "      fill: #1967D2;\n",
              "      height: 32px;\n",
              "      padding: 0 0 0 0;\n",
              "      width: 32px;\n",
              "    }\n",
              "\n",
              "    .colab-df-convert:hover {\n",
              "      background-color: #E2EBFA;\n",
              "      box-shadow: 0px 1px 2px rgba(60, 64, 67, 0.3), 0px 1px 3px 1px rgba(60, 64, 67, 0.15);\n",
              "      fill: #174EA6;\n",
              "    }\n",
              "\n",
              "    [theme=dark] .colab-df-convert {\n",
              "      background-color: #3B4455;\n",
              "      fill: #D2E3FC;\n",
              "    }\n",
              "\n",
              "    [theme=dark] .colab-df-convert:hover {\n",
              "      background-color: #434B5C;\n",
              "      box-shadow: 0px 1px 3px 1px rgba(0, 0, 0, 0.15);\n",
              "      filter: drop-shadow(0px 1px 2px rgba(0, 0, 0, 0.3));\n",
              "      fill: #FFFFFF;\n",
              "    }\n",
              "  </style>\n",
              "\n",
              "      <script>\n",
              "        const buttonEl =\n",
              "          document.querySelector('#df-6d54e231-9202-43cd-bfa1-680ab3ccf425 button.colab-df-convert');\n",
              "        buttonEl.style.display =\n",
              "          google.colab.kernel.accessAllowed ? 'block' : 'none';\n",
              "\n",
              "        async function convertToInteractive(key) {\n",
              "          const element = document.querySelector('#df-6d54e231-9202-43cd-bfa1-680ab3ccf425');\n",
              "          const dataTable =\n",
              "            await google.colab.kernel.invokeFunction('convertToInteractive',\n",
              "                                                     [key], {});\n",
              "          if (!dataTable) return;\n",
              "\n",
              "          const docLinkHtml = 'Like what you see? Visit the ' +\n",
              "            '<a target=\"_blank\" href=https://colab.research.google.com/notebooks/data_table.ipynb>data table notebook</a>'\n",
              "            + ' to learn more about interactive tables.';\n",
              "          element.innerHTML = '';\n",
              "          dataTable['output_type'] = 'display_data';\n",
              "          await google.colab.output.renderOutput(dataTable, element);\n",
              "          const docLink = document.createElement('div');\n",
              "          docLink.innerHTML = docLinkHtml;\n",
              "          element.appendChild(docLink);\n",
              "        }\n",
              "      </script>\n",
              "    </div>\n",
              "  </div>\n",
              "  "
            ]
          },
          "metadata": {},
          "execution_count": 6
        }
      ]
    },
    {
      "cell_type": "code",
      "source": [
        "data.size"
      ],
      "metadata": {
        "colab": {
          "base_uri": "https://localhost:8080/"
        },
        "id": "RDZuCBlDYAUT",
        "outputId": "5efd295f-6c98-4b7a-a0f9-fba849903f77"
      },
      "execution_count": 7,
      "outputs": [
        {
          "output_type": "execute_result",
          "data": {
            "text/plain": [
              "5352"
            ]
          },
          "metadata": {},
          "execution_count": 7
        }
      ]
    },
    {
      "cell_type": "code",
      "source": [
        "data.isna().sum()"
      ],
      "metadata": {
        "colab": {
          "base_uri": "https://localhost:8080/"
        },
        "id": "asRjLRMIYOYo",
        "outputId": "cbf47e9a-352c-4d04-ede5-845eefc4a5ca"
      },
      "execution_count": 15,
      "outputs": [
        {
          "output_type": "execute_result",
          "data": {
            "text/plain": [
              "name           0\n",
              "company        0\n",
              "year           0\n",
              "Price          0\n",
              "kms_driven    52\n",
              "fuel_type     55\n",
              "dtype: int64"
            ]
          },
          "metadata": {},
          "execution_count": 15
        }
      ]
    },
    {
      "cell_type": "code",
      "source": [
        "kilometers_df = data.kms_driven.str.extract('(\\d+)')\n",
        "# size1 = int(kilometers_df.size)\n",
        "km_list = []\n",
        "\n",
        "for i in kilometers_df[0]:\n",
        "  km_list.append(i)\n",
        "\n",
        "print(km_list)\n",
        "\n",
        "\n"
      ],
      "metadata": {
        "colab": {
          "base_uri": "https://localhost:8080/"
        },
        "id": "GjO9GC3sYS0b",
        "outputId": "ed9deb0e-be57-4881-8589-8ed3578ea461"
      },
      "execution_count": 58,
      "outputs": [
        {
          "output_type": "stream",
          "name": "stdout",
          "text": [
            "['45', '40', '22', '28', '36', '59', '41', '25', '24', '60', '60', '30', '32', '48', '45', '40', '4', '16', '43', '35', '43', '39', '39', '55', '55', '55', '72', '15', '70', '23', '35', '48', '15', '39', '39', '82', '20', '68', '32', '38', '27', '33', '60', '46', '46', '36', '55', '16', '36', '47', '23', '35', '48', '15', '39', '39', '35', '30', '15', '29', '41', '25', '1', '24', '1', '19', '60', '60', '30', nan, '41', '35', '54', '13', '16', '38', '22', '22', '50', '13', '30', '50', '20', '39', '30', nan, '3', '32', '38', '45', '35', '50', '32', '45', '60', '12', '60', '35', '35', '45', '35', '38', '18', '35', '13', '29', '44', '29', '42', '14', '49', '42', '36', '50', '55', '45', '51', '19', '46', '33', '13', '1', '55', '33', '33', '5', '41', '70', '7', '45', '38', '30', '26', '35', '24', '65', '41', '20', '28', '2', '70', '59', '99', '46', '2', '32', '22', '50', '22', '45', '21', '11', '41', '39', '50', '66', '3', '45', '7', '38', '37', '43', '24', '60', '45', '40', '45', '38', '50', '11', '42', '39', '47', '27', '97', '52', '30', '55', '46', '30', '44', '45', '31', '1', '38', nan, '37', '65', '38', '13', '7', '3', '60', '54', '32', nan, '75', '62', '73', '41', '35', '2', '39', '45', '45', '65', nan, '54', '34', '97', '25', '20', '20', '18', '35', '60', '35', '80', '3', '46', '0', '5', '588', '36', '38', '45', '71', '52', '29', '47', '47', '20', '30', '5', '35', '31', '7', '1', '1', '41', '33', '46', '45', '39', '22', '47', '3', '30', '37', '13', '14', '55', '46', '30', '50', '45', '45', '9', '55', '36', '50', '55', '45', '51', '19', '46', '33', '36', '22', '13', '60', '27', '59', '19', '30', '15', '56', '10', '20', '49', '41', '45', '43', '1', '56', '38', nan, '56', '37', '65', '32', '38', '30', '56', nan, '52', '9', '13', '13', '11', '13', '46', '73', '1', '84', '58', '30', '55', '57', '50', '37', '40', '55', '1', '55', '39', '44', '65', '39', '44', '49', '9', '45', '47', '40', '29', '15', '45', '35', '80', '68', '50', '60', '9', '72', '60', '38', '45', '40', '20', '35', '20', '25', '20', '20', '18', '35', '6', '23', '14', '38', '35', '22', '41', '45', '44', '45', '52', '34', '1', nan, '15', '4', '44', '60', '35', '72', '40', nan, '80', '3', '48', '90', '12', '46', '69', '0', '45', '5', '1', '42', '588', '122', '62', '70', nan, '36', '0', '24', '55', '36', '38', '55', '20', '40', nan, '50', '1', '65', '41', '90', nan, '80', '46', '70', '36', '7', '65', '60', '32', '24', '15', '40', '65', nan, '22', '59', '1', '25', '35', '65', '35', '33', '68', '23', '4', '1', '300', '5', '65', '1', '1', nan, nan, '14', '22', '38', '70', '36', '34', '43', nan, '40', '1', '12', '49', '68', '37', '59', '16', '97', '99', '25', '66', '44', '35', '35', '28', '30', '4', '28', '75', '97', '3', '20', '50', '2', '43', '1', '1', '65', '1', '97', '97', '1', '55', '48', '22', '1', '80', '99', '58', '70', '1', '49', '100', '81', '75', '50', '44', '55', '36', '56', '62', '1', '6', '55', '42', '50', '35', '18', '7', '11', '1', '53', '23', '35', '22', '1', '9', '8', '35', '35', '22', '25', '40', '20', '87', '55', '23', '6', '65', '25', '39', '15', '8', '75', '51', '50', '75', '55', '53', '25', '56', '72', '10', '48', '36', '11', '1', '27', '35', '55', '40', '2', '45', '20', '88', '20', '65', '10', '35', '1', '1', '72', '10', '55', '6', '41', '73', nan, '65', '45', '40', '37', '55', '1', '5', '9', '27', '27', '20', '57', '30', '6', '37', '24', '383', '95', '35', '3', '52', '47', '14', '37', '90', '52', '1', '30', '1', '1', '1', '70', nan, '43', '23', '51', '62', '48', nan, '39', '40', '48', '39', '23', '9', '50', '75', nan, '70', '64', '55', '2', '7', nan, '2', nan, '30', '44', '56', '65', '1', '56', '75', nan, '42', '75', '56', '10', '64', '70', '25', '15', '50', '49', nan, '1', '52', '90', '21', '48', '48', '48', nan, '80', nan, '74', '22', '41', '25', '85', '29', '30', '57', '60', '50', '39', '65', '67', '46', '38', '27', '43', '47', '42', '19', '60', '29', '34', '35', '22', '41', '21', '48', '38', '34', '45', '68', '44', '35', '1', '28', '41', '1', '59', '58', '45', '42', '7', '54', '2', '27', '42', '29', '37', '36', '34', '7', '76', '60', '95', '50', '00', '50', '68', '16', '51', '56', '1', '36', '11', '1', '60', '85', '38', '95', '56', '37', '85', '12', '35', '00', '80', nan, '45', nan, '51', '30', nan, '48', '51', '90', '43', '53', '97', '20', '55', '1', '0', '46', '43', '56', '42', '30', '38', '2', '47', '41', '62', '68', '50', '69', '48', '55', '25', '28', '28', '42', nan, '29', '68', '3', '0', '0', nan, '32', '8', '34', '37', '85', '46', '47', '64', '46', '8', '64', '63', '65', '62', '41', '14', '40', '1', '90', '58', '27', '60', '31', '90', '90', '1', '31', nan, '43', '20', nan, nan, nan, nan, nan, nan, nan, nan, nan, '1', nan, nan, nan, nan, nan, nan, nan, nan, '7', '31', '33', '60', '48', '33', '15', '47', '40', '7', '38', '12', '42', '20', '31', '60', '80', '77', '75', '40', '47', '60', '26', '2', '13', '9', '80', '60', '20', '58', '1', '75', nan, '2', '1', '1', '45', '65', '33', '60', '28', '38', '70', '7', '25', '1', '4', '42', '20', '1', '1', '91', '55', '1', '63', '1', '1', '40', '40', '1', '1', '2', '95', '2', '80', '15', '65', '51', '45', '70', '50', nan, '30', '1', nan, '27', '40', nan, nan]\n"
          ]
        }
      ]
    },
    {
      "cell_type": "code",
      "source": [],
      "metadata": {
        "id": "pgaLY94tZgNG"
      },
      "execution_count": null,
      "outputs": []
    }
  ]
}