{
  "nbformat": 4,
  "nbformat_minor": 0,
  "metadata": {
    "colab": {
      "name": "Deep Learning Assignment 1.ipynb",
      "provenance": [],
      "authorship_tag": "ABX9TyNw4hU3KVxZpFj1Isl+lsIw",
      "include_colab_link": true
    },
    "kernelspec": {
      "name": "python3",
      "display_name": "Python 3"
    },
    "language_info": {
      "name": "python"
    }
  },
  "cells": [
    {
      "cell_type": "markdown",
      "metadata": {
        "id": "view-in-github",
        "colab_type": "text"
      },
      "source": [
        "<a href=\"https://colab.research.google.com/github/Misudhari/Deep-Learning-Lab/blob/main/Deep_Learning_Assignment_1.ipynb\" target=\"_parent\"><img src=\"https://colab.research.google.com/assets/colab-badge.svg\" alt=\"Open In Colab\"/></a>"
      ]
    },
    {
      "cell_type": "code",
      "source": [
        "from google.colab import drive\n",
        "drive.mount('/content/drive')"
      ],
      "metadata": {
        "colab": {
          "base_uri": "https://localhost:8080/"
        },
        "id": "Odzbs0gs6r9i",
        "outputId": "f7fe3ad1-a725-4a68-bc81-4d2466bf540a"
      },
      "execution_count": 2,
      "outputs": [
        {
          "output_type": "stream",
          "name": "stdout",
          "text": [
            "Mounted at /content/drive\n"
          ]
        }
      ]
    },
    {
      "cell_type": "code",
      "execution_count": 5,
      "metadata": {
        "id": "QmTgvWdO6fuv"
      },
      "outputs": [],
      "source": [
        "import keras\n",
        "from keras.models import Sequential\n",
        "from keras.layers import Dense\n",
        "from keras.layers import LeakyReLU, PReLU, ELU\n",
        "from tensorflow.keras.utils import plot_model\n",
        "import pandas as pd"
      ]
    },
    {
      "cell_type": "code",
      "source": [
        "data =  pd.read_csv('/content/drive/MyDrive/Datasets/Tetuan City power consumption.csv')\n",
        "\n",
        "print(data.head())"
      ],
      "metadata": {
        "colab": {
          "base_uri": "https://localhost:8080/"
        },
        "id": "KMOwQDdT6nbF",
        "outputId": "3484ef95-1bbf-4611-b0ca-b0c0763caa39"
      },
      "execution_count": 4,
      "outputs": [
        {
          "output_type": "stream",
          "name": "stdout",
          "text": [
            "   Temperature  Humidity  Wind Speed  general diffuse flows  diffuse flows  \\\n",
            "0        6.559      73.8       0.083                  0.051          0.119   \n",
            "1        6.414      74.5       0.083                  0.070          0.085   \n",
            "2        6.313      74.5       0.080                  0.062          0.100   \n",
            "3        6.121      75.0       0.083                  0.091          0.096   \n",
            "4        5.921      75.7       0.081                  0.048          0.085   \n",
            "\n",
            "   Zone 1 Power Consumption  Zone 2  Power Consumption  \\\n",
            "0               34055.69620                16128.87538   \n",
            "1               29814.68354                19375.07599   \n",
            "2               29128.10127                19006.68693   \n",
            "3               28228.86076                18361.09422   \n",
            "4               27335.69620                17872.34043   \n",
            "\n",
            "   Zone 3  Power Consumption  \n",
            "0                20240.96386  \n",
            "1                20131.08434  \n",
            "2                19668.43373  \n",
            "3                18899.27711  \n",
            "4                18442.40964  \n"
          ]
        }
      ]
    },
    {
      "cell_type": "code",
      "source": [
        "model = Sequential()"
      ],
      "metadata": {
        "id": "G3mJ9Nyd8vq1"
      },
      "execution_count": 6,
      "outputs": []
    },
    {
      "cell_type": "code",
      "source": [
        ""
      ],
      "metadata": {
        "id": "y66cREU393DN"
      },
      "execution_count": null,
      "outputs": []
    }
  ]
}